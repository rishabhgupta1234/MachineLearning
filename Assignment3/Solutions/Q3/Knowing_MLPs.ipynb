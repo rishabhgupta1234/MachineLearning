{
  "cells": [
    {
      "cell_type": "markdown",
      "id": "a736d316-20aa-4263-84c3-8afc5c4a9cc6",
      "metadata": {
        "jp-MarkdownHeadingCollapsed": true,
        "tags": [],
        "id": "a736d316-20aa-4263-84c3-8afc5c4a9cc6"
      },
      "source": [
        "# SMAI Assignment - 3\n",
        "\n",
        "## Question - `3` : Knowing MLPs\n",
        "\n",
        "| | |\n",
        "|- | -|\n",
        "| Course | Statistical Methods in AI |\n",
        "| Release Date | `09.03.2023` |\n",
        "| Due Date | `24.03.2023` |"
      ]
    },
    {
      "cell_type": "markdown",
      "id": "1c86307a-7690-40cf-9eb2-e29fab7b15b5",
      "metadata": {
        "jp-MarkdownHeadingCollapsed": true,
        "tags": [],
        "id": "1c86307a-7690-40cf-9eb2-e29fab7b15b5"
      },
      "source": [
        "## Please read the following before moving on\n",
        "\n",
        "Welcome to the world of Multilayer Perceptrons (MLP)! You already know that MLPs are feedforward neural networks consisting of multiple layers of nodes or neurons. These networks are well-suited for a wide range of classification and regression tasks, thanks to their ability to learn complex, non-linear relationships between inputs and outputs.\n",
        "\n",
        "In this assignment, we will be working with the MNIST dataset to explore the importance of different MLP components. The MNIST dataset consists of 70,000 handwritten digit images, each of which is 28x28 pixels in size. Our goal is to use an MLP to classify these images into one of 10 categories (0-9).\n",
        "\n",
        "To improve the performance of our MLP, we will experiment with various techniques such as Dropout, Batch Normalization, Loss Functions, Stochastic batch and mini-batch gradient descent, and more. Please note, you must use mini-batch unless explicity specified.\n",
        "\n",
        "In addition, we will experiment with different optimization algorithms such as stochastic gradient descent, Adam, and RMSprop to find the optimal weights and biases for our MLP. We will use stochastic batch and mini-batch gradient descent, which involve updating the weights and biases of the network based on a small batch of randomly sampled training examples, to speed up the training process and reduce memory usage.\n",
        "\n",
        "By the end of this assignment, you will have gained a deeper understanding of the various components that make up an MLP and their importance in achieving high performance in classification tasks. You will have gained hands-on experience in experimenting with these components and learned how to fine-tune an MLP to achieve the best possible performance on the MNIST dataset. So, let's get started!\n",
        "\n",
        "🫵Pro-tip: Do not re-write any results so as to re-use them in later experiments for tabulation and plotting.\n",
        "\n",
        "💭Trivia: Did you know code written using ChatGPT is easy to catch?"
      ]
    },
    {
      "cell_type": "markdown",
      "id": "436f25c4",
      "metadata": {
        "jp-MarkdownHeadingCollapsed": true,
        "tags": [],
        "id": "436f25c4"
      },
      "source": [
        "### Step zero: Import Libraries"
      ]
    },
    {
      "cell_type": "code",
      "execution_count": 1,
      "id": "1009eb09",
      "metadata": {
        "id": "1009eb09"
      },
      "outputs": [],
      "source": [
        "import warnings\n",
        "warnings.filterwarnings(\"ignore\")\n",
        "\n",
        "import numpy as np\n",
        "import pandas as pd\n",
        "\n",
        "import matplotlib.pyplot as plt\n",
        "\n",
        "import seaborn as sns\n",
        "%matplotlib inline\n",
        "from time import time\n",
        "import torch\n",
        "import torchvision\n",
        "from torchvision import datasets\n",
        "from torchvision import transforms\n",
        "from torch.autograd import Variable\n",
        "from torch import nn, optim"
      ]
    },
    {
      "cell_type": "markdown",
      "id": "5e0546f0",
      "metadata": {
        "jp-MarkdownHeadingCollapsed": true,
        "tags": [],
        "id": "5e0546f0"
      },
      "source": [
        "### Step one: Using a PyTorch Dataset\n",
        "Load MNIST dataset from `torchvision.datasets`"
      ]
    },
    {
      "cell_type": "code",
      "execution_count": 2,
      "id": "4d54d14d",
      "metadata": {
        "id": "4d54d14d",
        "colab": {
          "base_uri": "https://localhost:8080/",
          "height": 850,
          "referenced_widgets": [
            "13f9719a0cb5485f97b7884a64d0a03e",
            "8280530fa2244fa697f478f9423c042f",
            "5b189cef9e0d4e5e8e54dc4a0d64a454",
            "b1ed8f583f994a1cb8376735dcd2d8a8",
            "1306f57a4b5545af96448da007347e35",
            "d9802a71085b463c811ecdd1fbf399c5",
            "becafdb5bf604075bca3fe2037f219e5",
            "e569417371394da78b629f1417827205",
            "7319374ca2ad474eaf45539d08734274",
            "8f5c8e4eae0d4afe9f1fa7a4de41f1f9",
            "349c5c161a764bed975e7b994346c329",
            "2540cc23729a4bc59599d4b62c2a6270",
            "cd79bb562cd24ed09a16ac0db9e7910c",
            "1f52bfbd95054a0e8e5a6a7f4b11e0fc",
            "297d27ce70224a518e8e9ce528478caa",
            "dd6bd3c05c4445c2971a5496ba09b07d",
            "ef409326a06843e1ab651d459e592584",
            "10f4884a62a4429d907df6fe84fc40f6",
            "cd43106053ef4d75aebde101e6ee10fe",
            "3030db637d804af6a8aaf96d2f12c64e",
            "bf0891c21bc544369d4c62a7a6996a27",
            "44babd87308a46cead2c75fa4c3b479d",
            "5ddf643bec864439b0099543ce045e8c",
            "073dccbec9074e9ebb897158a0bb5567",
            "3087e50b7cdb4792967a3b0d624f81f4",
            "c3fa1fad9f5e405889cf8f68de6deb31",
            "d8ba69bb3f1f449c86b05e4e74cb5f4d",
            "2a6488573e254e1daff63565b7ba2f55",
            "cb8a7754ee144d448c9406f0c922dd84",
            "33995a6ec21449d4a9b9f5516cc39944",
            "8d9857ea857544a1a03c495bd93c2241",
            "0e07e994e085450385558f9cfa02c341",
            "76bb1316fff24c628a854daceb576014",
            "b2d0c5e089a24c28a6dac143f99c02e7",
            "96d278aed97f4c2f86e9d8f88538f76e",
            "a6dee171d43d4dc1b5cabb8e8846d82a",
            "ef84d22d0422458d962faa04eca44a10",
            "5ee55846640a4fafb4c6b4992b52de7a",
            "acb32408963c4e4fb785245008527ed7",
            "eca0ad4600b0459ba38e9d5949a97603",
            "0651e0aad7bd47afb5ec452d234c2dcd",
            "5b9f734cde19411ba318ff63387bb6d8",
            "414bf22a5fe747e286ded1515bdebf10",
            "719bfaa8254d4c268925ea5b1f6d3034",
            "ea19415dc01947f081266d2a5b9e381f",
            "bf44bb19700f478d9a346db669490fe8",
            "dc8db95e8c014ece880c01cde50f0986",
            "458d89f46f9244fda273b319f0cc48e8",
            "dbdf23eaa0304552bcdbc6f20a0380e4",
            "1961c0661d1643aab40251dc51772ff1",
            "1884773dbba5418bb7e9061a4056d33e",
            "b2ca509c1b5543edae19540c18c6d84a",
            "f95a4e50ebf74f8bb76860581375e32a",
            "723d5239b6d9475a868e15293aa9153b",
            "988cca9c4b754cd7a09ca176aed134aa",
            "6ab64ad8e6bb4a9d8d202d1909be534d",
            "167d0fe8cb954551b556c9039238067b",
            "24e9deb893704d608db4f4e92f358761",
            "259ac4bcabac47e2adcc51f7d0b63ead",
            "1bf0cd8da9104d91aeb2dffc1a1b2642",
            "83c4797f8e0f4a479fd0d06d99e7f78a",
            "90a9ff33cbb34314be68060b691b14b7",
            "8c2154dfc7384794bef9ff484ac85ee9",
            "197403e72e084e638bf404c4518139c4",
            "aff3daa7daef4415add557a43eb2f4ed",
            "744f86d444444e62be703a28284f7edc",
            "c9003bd2e1d74b97b3e311d00d0ae120",
            "5d85048ecf0245de8abb676fedc1f385",
            "66099a601fdf4241b98245ca9b1d39af",
            "e27b37b6431e44ec935f82cf8af4c95b",
            "42f43c33091a44e18f1aa6983c4ee2b3",
            "99626e60aaa343f0ae5b1200ab3f11ba",
            "d18d0ebab5654f32a3241c33691e6716",
            "9cc342d0a0384bfa870e7aaeece7db53",
            "0fc94df1fb714e498d901e81cff32d66",
            "f157863b60e6416987ccda92a54332f7",
            "c58ec622dcbd42a59bc10d8459538673",
            "9ddf9d394c97453f8b51d9eb7a987136",
            "4ed748989e1b4c99b63c1f55d5328378",
            "9d8678615a3c48e2a4b4267c8d5e8187",
            "d2f6c6979e0f43a5bb9cebb3436d2bea",
            "2621ddfa06c24b64806b26d1ee9c3153",
            "b835be7d884140bab14cc808f23eb5fa",
            "420fcd2e7f844a78aa0f45204f605186",
            "f6bd3a417de84443909a6b211ebd0ff8",
            "46d001fc5efa4830ba6b74f246d1e41f",
            "65167537e78f4c33965c302cde95af78",
            "2b9f5590b88740bca6d33165dc31db58"
          ]
        },
        "outputId": "57e49d28-1543-4616-dd14-8a51f762d132"
      },
      "outputs": [
        {
          "output_type": "stream",
          "name": "stdout",
          "text": [
            "Downloading http://yann.lecun.com/exdb/mnist/train-images-idx3-ubyte.gz\n",
            "Downloading http://yann.lecun.com/exdb/mnist/train-images-idx3-ubyte.gz to PATH_TO_STORE_TRAINSET/MNIST/raw/train-images-idx3-ubyte.gz\n"
          ]
        },
        {
          "output_type": "display_data",
          "data": {
            "text/plain": [
              "  0%|          | 0/9912422 [00:00<?, ?it/s]"
            ],
            "application/vnd.jupyter.widget-view+json": {
              "version_major": 2,
              "version_minor": 0,
              "model_id": "13f9719a0cb5485f97b7884a64d0a03e"
            }
          },
          "metadata": {}
        },
        {
          "output_type": "stream",
          "name": "stdout",
          "text": [
            "Extracting PATH_TO_STORE_TRAINSET/MNIST/raw/train-images-idx3-ubyte.gz to PATH_TO_STORE_TRAINSET/MNIST/raw\n",
            "\n",
            "Downloading http://yann.lecun.com/exdb/mnist/train-labels-idx1-ubyte.gz\n",
            "Downloading http://yann.lecun.com/exdb/mnist/train-labels-idx1-ubyte.gz to PATH_TO_STORE_TRAINSET/MNIST/raw/train-labels-idx1-ubyte.gz\n"
          ]
        },
        {
          "output_type": "display_data",
          "data": {
            "text/plain": [
              "  0%|          | 0/28881 [00:00<?, ?it/s]"
            ],
            "application/vnd.jupyter.widget-view+json": {
              "version_major": 2,
              "version_minor": 0,
              "model_id": "2540cc23729a4bc59599d4b62c2a6270"
            }
          },
          "metadata": {}
        },
        {
          "output_type": "stream",
          "name": "stdout",
          "text": [
            "Extracting PATH_TO_STORE_TRAINSET/MNIST/raw/train-labels-idx1-ubyte.gz to PATH_TO_STORE_TRAINSET/MNIST/raw\n",
            "\n",
            "Downloading http://yann.lecun.com/exdb/mnist/t10k-images-idx3-ubyte.gz\n",
            "Downloading http://yann.lecun.com/exdb/mnist/t10k-images-idx3-ubyte.gz to PATH_TO_STORE_TRAINSET/MNIST/raw/t10k-images-idx3-ubyte.gz\n"
          ]
        },
        {
          "output_type": "display_data",
          "data": {
            "text/plain": [
              "  0%|          | 0/1648877 [00:00<?, ?it/s]"
            ],
            "application/vnd.jupyter.widget-view+json": {
              "version_major": 2,
              "version_minor": 0,
              "model_id": "5ddf643bec864439b0099543ce045e8c"
            }
          },
          "metadata": {}
        },
        {
          "output_type": "stream",
          "name": "stdout",
          "text": [
            "Extracting PATH_TO_STORE_TRAINSET/MNIST/raw/t10k-images-idx3-ubyte.gz to PATH_TO_STORE_TRAINSET/MNIST/raw\n",
            "\n",
            "Downloading http://yann.lecun.com/exdb/mnist/t10k-labels-idx1-ubyte.gz\n",
            "Downloading http://yann.lecun.com/exdb/mnist/t10k-labels-idx1-ubyte.gz to PATH_TO_STORE_TRAINSET/MNIST/raw/t10k-labels-idx1-ubyte.gz\n"
          ]
        },
        {
          "output_type": "display_data",
          "data": {
            "text/plain": [
              "  0%|          | 0/4542 [00:00<?, ?it/s]"
            ],
            "application/vnd.jupyter.widget-view+json": {
              "version_major": 2,
              "version_minor": 0,
              "model_id": "b2d0c5e089a24c28a6dac143f99c02e7"
            }
          },
          "metadata": {}
        },
        {
          "output_type": "stream",
          "name": "stdout",
          "text": [
            "Extracting PATH_TO_STORE_TRAINSET/MNIST/raw/t10k-labels-idx1-ubyte.gz to PATH_TO_STORE_TRAINSET/MNIST/raw\n",
            "\n",
            "Downloading http://yann.lecun.com/exdb/mnist/train-images-idx3-ubyte.gz\n",
            "Downloading http://yann.lecun.com/exdb/mnist/train-images-idx3-ubyte.gz to PATH_TO_STORE_TESTSET/MNIST/raw/train-images-idx3-ubyte.gz\n"
          ]
        },
        {
          "output_type": "display_data",
          "data": {
            "text/plain": [
              "  0%|          | 0/9912422 [00:00<?, ?it/s]"
            ],
            "application/vnd.jupyter.widget-view+json": {
              "version_major": 2,
              "version_minor": 0,
              "model_id": "ea19415dc01947f081266d2a5b9e381f"
            }
          },
          "metadata": {}
        },
        {
          "output_type": "stream",
          "name": "stdout",
          "text": [
            "Extracting PATH_TO_STORE_TESTSET/MNIST/raw/train-images-idx3-ubyte.gz to PATH_TO_STORE_TESTSET/MNIST/raw\n",
            "\n",
            "Downloading http://yann.lecun.com/exdb/mnist/train-labels-idx1-ubyte.gz\n",
            "Downloading http://yann.lecun.com/exdb/mnist/train-labels-idx1-ubyte.gz to PATH_TO_STORE_TESTSET/MNIST/raw/train-labels-idx1-ubyte.gz\n"
          ]
        },
        {
          "output_type": "display_data",
          "data": {
            "text/plain": [
              "  0%|          | 0/28881 [00:00<?, ?it/s]"
            ],
            "application/vnd.jupyter.widget-view+json": {
              "version_major": 2,
              "version_minor": 0,
              "model_id": "6ab64ad8e6bb4a9d8d202d1909be534d"
            }
          },
          "metadata": {}
        },
        {
          "output_type": "stream",
          "name": "stdout",
          "text": [
            "Extracting PATH_TO_STORE_TESTSET/MNIST/raw/train-labels-idx1-ubyte.gz to PATH_TO_STORE_TESTSET/MNIST/raw\n",
            "\n",
            "Downloading http://yann.lecun.com/exdb/mnist/t10k-images-idx3-ubyte.gz\n",
            "Downloading http://yann.lecun.com/exdb/mnist/t10k-images-idx3-ubyte.gz to PATH_TO_STORE_TESTSET/MNIST/raw/t10k-images-idx3-ubyte.gz\n"
          ]
        },
        {
          "output_type": "display_data",
          "data": {
            "text/plain": [
              "  0%|          | 0/1648877 [00:00<?, ?it/s]"
            ],
            "application/vnd.jupyter.widget-view+json": {
              "version_major": 2,
              "version_minor": 0,
              "model_id": "c9003bd2e1d74b97b3e311d00d0ae120"
            }
          },
          "metadata": {}
        },
        {
          "output_type": "stream",
          "name": "stdout",
          "text": [
            "Extracting PATH_TO_STORE_TESTSET/MNIST/raw/t10k-images-idx3-ubyte.gz to PATH_TO_STORE_TESTSET/MNIST/raw\n",
            "\n",
            "Downloading http://yann.lecun.com/exdb/mnist/t10k-labels-idx1-ubyte.gz\n",
            "Downloading http://yann.lecun.com/exdb/mnist/t10k-labels-idx1-ubyte.gz to PATH_TO_STORE_TESTSET/MNIST/raw/t10k-labels-idx1-ubyte.gz\n"
          ]
        },
        {
          "output_type": "display_data",
          "data": {
            "text/plain": [
              "  0%|          | 0/4542 [00:00<?, ?it/s]"
            ],
            "application/vnd.jupyter.widget-view+json": {
              "version_major": 2,
              "version_minor": 0,
              "model_id": "9ddf9d394c97453f8b51d9eb7a987136"
            }
          },
          "metadata": {}
        },
        {
          "output_type": "stream",
          "name": "stdout",
          "text": [
            "Extracting PATH_TO_STORE_TESTSET/MNIST/raw/t10k-labels-idx1-ubyte.gz to PATH_TO_STORE_TESTSET/MNIST/raw\n",
            "\n"
          ]
        }
      ],
      "source": [
        "transform = transforms.Compose([\n",
        "                    transforms.ToTensor(), \n",
        "            ])\n",
        "\n",
        "trainset = datasets.MNIST('PATH_TO_STORE_TRAINSET', download=True, train=True, transform=transform)\n",
        "testset = datasets.MNIST('PATH_TO_STORE_TESTSET', download=True, train=False, transform=transform)"
      ]
    },
    {
      "cell_type": "code",
      "execution_count": 3,
      "id": "db5bf20a",
      "metadata": {
        "id": "db5bf20a"
      },
      "outputs": [],
      "source": [
        "trainloader_minibatch = torch.utils.data.DataLoader(trainset, batch_size=64  , shuffle=True, num_workers=2)\n",
        "                                                  \n",
        "trainloader_stochastic = torch.utils.data.DataLoader(trainset, batch_size=1 , shuffle=True, num_workers=2 )  \n",
        "                                                               \n",
        "testloader = torch.utils.data.DataLoader(testset, batch_size=64, shuffle=True)\n"
      ]
    },
    {
      "cell_type": "code",
      "execution_count": 4,
      "id": "179becdc",
      "metadata": {
        "colab": {
          "base_uri": "https://localhost:8080/"
        },
        "id": "179becdc",
        "outputId": "455a03ae-4b20-48e2-d95e-80d6593709c2"
      },
      "outputs": [
        {
          "output_type": "stream",
          "name": "stderr",
          "text": [
            "  0%|          | 1/938 [00:00<04:34,  3.41it/s]"
          ]
        },
        {
          "output_type": "stream",
          "name": "stdout",
          "text": [
            "0 torch.Size([64, 1, 28, 28]) torch.Size([64])\n"
          ]
        },
        {
          "output_type": "execute_result",
          "data": {
            "text/plain": [
              "True"
            ]
          },
          "metadata": {},
          "execution_count": 4
        }
      ],
      "source": [
        "from tqdm import trange, tqdm\n",
        "\n",
        "pbar = tqdm(total=len(trainloader_minibatch))\n",
        "\n",
        "for idx, (data,label) in enumerate(trainloader_minibatch):\n",
        "    print(idx,data.size(),label.size())\n",
        "    pbar.update(1)\n",
        "    break\n",
        "pbar.refresh()"
      ]
    },
    {
      "cell_type": "markdown",
      "id": "b25020e7",
      "metadata": {
        "jp-MarkdownHeadingCollapsed": true,
        "tags": [],
        "id": "b25020e7"
      },
      "source": [
        "### Step two: Define a MLP Model and without any bells and whitsles...\n",
        "... along with a CrossEntropy loss criterion \n",
        "\n",
        "Do not use Dropout, BN or any other thing. Use ReLU for hidden layers.\n",
        "\n",
        "⚠️ Do not use SoftMax in the output as nn.CrossEntropyLoss combines SoftMax and NLLLoss."
      ]
    },
    {
      "cell_type": "code",
      "source": [
        "class SimpleMLP(nn.Module):\n",
        "    def __init__(self):\n",
        "        super(SimpleMLP,self).__init__()\n",
        "        self.linear1 = nn.Linear(28*28, 100) \n",
        "        self.linear2 = nn.Linear(100, 50) \n",
        "        self.final = nn.Linear(50, 10)\n",
        "        self.relu = nn.ReLU()\n",
        "\n",
        "    def forward(self, img): #convert + flatten\n",
        "        x = img.view(-1, 28*28)\n",
        "        x = self.relu(self.linear1(x))\n",
        "        x = self.relu(self.linear2(x))\n",
        "        x = self.final(x)\n",
        "        return x\n",
        "mlp = SimpleMLP()"
      ],
      "metadata": {
        "id": "p8w0_geFl9wf"
      },
      "id": "p8w0_geFl9wf",
      "execution_count": 5,
      "outputs": []
    },
    {
      "cell_type": "code",
      "source": [
        "cross_el = nn.CrossEntropyLoss()"
      ],
      "metadata": {
        "id": "P7AE55D5q7tO"
      },
      "id": "P7AE55D5q7tO",
      "execution_count": 6,
      "outputs": []
    },
    {
      "cell_type": "markdown",
      "id": "520e81eb",
      "metadata": {
        "jp-MarkdownHeadingCollapsed": true,
        "tags": [],
        "id": "520e81eb"
      },
      "source": [
        "### Step three: Define the following optimizers using nn.optim\n",
        "1. SGD\n",
        "2. SGD with momentum\n",
        "3. SGD with L2 regularization\n",
        "4. RMSprop\n",
        "5. Adam"
      ]
    },
    {
      "cell_type": "code",
      "source": [
        "def runOptimizer(optimizer,model,trainset,testset,scheduler=None):\n",
        "\n",
        "    trainLoss = []\n",
        "    testLoss = []\n",
        "    time0 = time()\n",
        "    epochs = 10\n",
        "    model.train()\n",
        "    for e in range(epochs):\n",
        "\n",
        "        if scheduler!=None:\n",
        "            scheduler.step()\n",
        "\n",
        "        runningLoss = 0\n",
        "        for images, labels in trainset:\n",
        "            images = images.view(images.shape[0], -1)\n",
        "            optimizer.zero_grad()\n",
        "            output = model(images)\n",
        "            loss = cross_el(output, labels)\n",
        "            loss.backward()\n",
        "            optimizer.step()\n",
        "            runningLoss =runningLoss + loss.item()\n",
        "        else:\n",
        "            trainLoss.append(runningLoss/len(trainset))\n",
        "            \n",
        "        with torch.no_grad():\n",
        "        \n",
        "            outLoss = 0\n",
        "             \n",
        "            for batch_idx, (data, target) in enumerate(testset):\n",
        "                 \n",
        "                if torch.cuda.is_available():\n",
        "                    data, target = data.cuda(), target.cuda()\n",
        "                 \n",
        "                output = model(data)\n",
        "                loss = cross_el(output, target)\n",
        "                 \n",
        "                outLoss =outLoss + loss.cpu().item()\n",
        "            \n",
        "            testLoss.append(outLoss / len(testset))\n",
        "         \n",
        "    t=(time()-time0)/60\n",
        "    return trainLoss,testLoss,t"
      ],
      "metadata": {
        "id": "KSEEE9Asqe0q"
      },
      "id": "KSEEE9Asqe0q",
      "execution_count": 7,
      "outputs": []
    },
    {
      "cell_type": "markdown",
      "source": [
        "SGD"
      ],
      "metadata": {
        "id": "JtxTlkCKkSRU"
      },
      "id": "JtxTlkCKkSRU"
    },
    {
      "cell_type": "code",
      "source": [
        "mlp1=SimpleMLP()\n",
        "optimizer1 = optim.SGD(mlp1.parameters(), lr=0.003)\n"
      ],
      "metadata": {
        "id": "Vn4b_km4p0DV"
      },
      "id": "Vn4b_km4p0DV",
      "execution_count": 8,
      "outputs": []
    },
    {
      "cell_type": "markdown",
      "source": [
        "SGD with momentum"
      ],
      "metadata": {
        "id": "up3lEueekVoX"
      },
      "id": "up3lEueekVoX"
    },
    {
      "cell_type": "code",
      "source": [
        "mlp2=SimpleMLP()\n",
        "optimizer2 = optim.SGD(mlp2.parameters(), lr=0.003, momentum=0.9)\n"
      ],
      "metadata": {
        "id": "pfakTEWWkQFd"
      },
      "id": "pfakTEWWkQFd",
      "execution_count": 9,
      "outputs": []
    },
    {
      "cell_type": "markdown",
      "source": [
        "SGD with L2 regularization"
      ],
      "metadata": {
        "id": "PK2Do_Cikc47"
      },
      "id": "PK2Do_Cikc47"
    },
    {
      "cell_type": "code",
      "source": [
        "mlp3=SimpleMLP()\n",
        "optimizer3 = optim.SGD(mlp3.parameters(), lr=0.003,weight_decay=0.001)\n"
      ],
      "metadata": {
        "id": "E8Mmf3ClkQMU"
      },
      "id": "E8Mmf3ClkQMU",
      "execution_count": 10,
      "outputs": []
    },
    {
      "cell_type": "markdown",
      "source": [
        "RMSprop"
      ],
      "metadata": {
        "id": "d9m5cXS7kdqS"
      },
      "id": "d9m5cXS7kdqS"
    },
    {
      "cell_type": "code",
      "source": [
        "\n",
        "mlp4=SimpleMLP()\n",
        "\n",
        "optimizer4=optim.RMSprop(mlp4.parameters(), lr=0.003, alpha=0.003, eps=1e-08)\n",
        "\n"
      ],
      "metadata": {
        "id": "umCdJMRqkQSn"
      },
      "id": "umCdJMRqkQSn",
      "execution_count": 11,
      "outputs": []
    },
    {
      "cell_type": "markdown",
      "source": [
        "ADAM"
      ],
      "metadata": {
        "id": "5saJyd8bkhv2"
      },
      "id": "5saJyd8bkhv2"
    },
    {
      "cell_type": "code",
      "source": [
        " \n",
        "mlp5=SimpleMLP()\n",
        "optimizer5 = torch.optim.Adam(mlp5.parameters(), lr=0.003) #e-1\n",
        " "
      ],
      "metadata": {
        "id": "UqviQ87wkQdc"
      },
      "id": "UqviQ87wkQdc",
      "execution_count": 12,
      "outputs": []
    },
    {
      "cell_type": "markdown",
      "id": "f5f0f6b8",
      "metadata": {
        "jp-MarkdownHeadingCollapsed": true,
        "tags": [],
        "id": "f5f0f6b8"
      },
      "source": [
        "### Step four: Run the SimpleMLP using different optimizers and plot train and test loss for each optimizer.\n",
        "Explain the results.\n",
        "\n",
        "Report final accuracy, F1 score and other relavant metrics in a tabular form on test and train datasets."
      ]
    },
    {
      "cell_type": "code",
      "source": [
        " \n",
        "def plot(x,y):\n",
        "    plt.plot(x, label = \"training loss\", linestyle='dashed')\n",
        "    plt.plot(y, label = \"testing loss\")\n",
        "    plt.legend()\n",
        "    plt.show()\n",
        "\n",
        "\n",
        "def accuracy(dataset,model):\n",
        "    correct=0\n",
        "    total=0\n",
        "    with torch.no_grad():\n",
        "        \n",
        "        for data in dataset:\n",
        "            x, y = data\n",
        "            output = model(x.view(-1, 784))\n",
        "            for idx, i in enumerate(output):\n",
        "                \n",
        "                if torch.argmax(i) == y[idx]:\n",
        "                    correct +=1\n",
        "                total +=1\n",
        "    ans=np.round(correct/total, 3)\n",
        "    return ans\n",
        "\n",
        "def make_predictions(data_loader,model):\n",
        "    model.eval()\n",
        "    test_preds = torch.LongTensor()\n",
        "    actual_labels = torch.LongTensor()\n",
        "    for i, (data, target) in enumerate(data_loader):\n",
        "        actual_labels = torch.cat((actual_labels, target), dim=0)\n",
        "        data = data.unsqueeze(1)\n",
        "        \n",
        "        if torch.cuda.is_available():\n",
        "            data = data.cuda()\n",
        "            \n",
        "        output = model(data)\n",
        "        \n",
        "        preds = output.cpu().data.max(1, keepdim=True)[1]\n",
        "        test_preds = torch.cat((test_preds, preds), dim=0)\n",
        "         \n",
        "    return test_preds,actual_labels\n",
        "\n"
      ],
      "metadata": {
        "id": "qhZ6CluBpuWF"
      },
      "id": "qhZ6CluBpuWF",
      "execution_count": 13,
      "outputs": []
    },
    {
      "cell_type": "markdown",
      "source": [
        "SGD"
      ],
      "metadata": {
        "id": "MHE-ioTO_94Y"
      },
      "id": "MHE-ioTO_94Y"
    },
    {
      "cell_type": "code",
      "source": [
        " \n",
        "train_loss1,test_loss1,t=runOptimizer(optimizer1,mlp1,trainloader_minibatch,testloader)\n"
      ],
      "metadata": {
        "id": "W7-WYUe7Fn1r"
      },
      "id": "W7-WYUe7Fn1r",
      "execution_count": 14,
      "outputs": []
    },
    {
      "cell_type": "code",
      "source": [
        "plot(train_loss1,test_loss1)"
      ],
      "metadata": {
        "colab": {
          "base_uri": "https://localhost:8080/",
          "height": 265
        },
        "id": "_PtS9tDqzBjw",
        "outputId": "c9b0d636-d43b-402e-db5f-5f617407311b"
      },
      "id": "_PtS9tDqzBjw",
      "execution_count": 15,
      "outputs": [
        {
          "output_type": "display_data",
          "data": {
            "text/plain": [
              "<Figure size 432x288 with 1 Axes>"
            ],
            "image/png": "[encoded data removed]"
          },
          "metadata": {
            "needs_background": "light"
          }
        }
      ]
    },
    {
      "cell_type": "code",
      "source": [
        "a11=accuracy(trainloader_minibatch,mlp1)\n",
        "a12=accuracy(testloader,mlp1)\n",
        "print(a11)\n",
        "print(a12)"
      ],
      "metadata": {
        "colab": {
          "base_uri": "https://localhost:8080/"
        },
        "id": "dEVy5M1b9gzY",
        "outputId": "310e1546-d1d6-423a-feb6-5b51c9427f4f"
      },
      "id": "dEVy5M1b9gzY",
      "execution_count": 16,
      "outputs": [
        {
          "output_type": "stream",
          "name": "stdout",
          "text": [
            "0.899\n",
            "0.9\n"
          ]
        }
      ]
    },
    {
      "cell_type": "code",
      "source": [
        "train_set_preds,actual_train= make_predictions(trainloader_minibatch,mlp1)\n",
        "test_set_preds,actual_test = make_predictions(testloader,mlp1)\n",
        "\n",
        "\n",
        "from sklearn.metrics import f1_score\n",
        "f11=f1_score(actual_train, train_set_preds, labels=None, pos_label=1, average='micro', sample_weight=None, zero_division='warn')\n",
        "f12=f1_score(actual_test, test_set_preds, labels=None, pos_label=1, average='micro', sample_weight=None, zero_division='warn')\n",
        "print(f11)\n",
        "print(f12)"
      ],
      "metadata": {
        "id": "_ziK0LXf-0Um",
        "colab": {
          "base_uri": "https://localhost:8080/"
        },
        "outputId": "56037706-7346-4242-971c-0e48bdedefae"
      },
      "id": "_ziK0LXf-0Um",
      "execution_count": 17,
      "outputs": [
        {
          "output_type": "stream",
          "name": "stdout",
          "text": [
            "0.8986\n",
            "0.9\n"
          ]
        }
      ]
    },
    {
      "cell_type": "markdown",
      "source": [
        "SGD with momentum"
      ],
      "metadata": {
        "id": "xsHeu3miADDb"
      },
      "id": "xsHeu3miADDb"
    },
    {
      "cell_type": "code",
      "source": [
        "\n",
        "train_loss2,test_loss2,t=runOptimizer(optimizer2,mlp2,trainloader_minibatch,testloader)\n"
      ],
      "metadata": {
        "id": "GfaMCHFRFn7Q"
      },
      "id": "GfaMCHFRFn7Q",
      "execution_count": 18,
      "outputs": []
    },
    {
      "cell_type": "code",
      "source": [
        "\n",
        "plot(train_loss2,test_loss2)"
      ],
      "metadata": {
        "colab": {
          "base_uri": "https://localhost:8080/",
          "height": 265
        },
        "id": "aam0dtXAhoPk",
        "outputId": "795c2f2a-04d5-43e7-af86-33bf202c35f5"
      },
      "id": "aam0dtXAhoPk",
      "execution_count": 19,
      "outputs": [
        {
          "output_type": "display_data",
          "data": {
            "text/plain": [
              "<Figure size 432x288 with 1 Axes>"
            ],
            "image/png": "[encoded data removed]"
          },
          "metadata": {
            "needs_background": "light"
          }
        }
      ]
    },
    {
      "cell_type": "code",
      "source": [
        "a21=accuracy(trainloader_minibatch,mlp2)\n",
        "a22=accuracy(testloader,mlp2)\n",
        "print(a21)\n",
        "print(a22)"
      ],
      "metadata": {
        "colab": {
          "base_uri": "https://localhost:8080/"
        },
        "id": "aJsMWUZ0AOLU",
        "outputId": "2dae6b61-2358-4eef-827a-f3b0b2ac8f66"
      },
      "id": "aJsMWUZ0AOLU",
      "execution_count": 20,
      "outputs": [
        {
          "output_type": "stream",
          "name": "stdout",
          "text": [
            "0.972\n",
            "0.966\n"
          ]
        }
      ]
    },
    {
      "cell_type": "code",
      "source": [
        "train_set_preds,actual_train= make_predictions(trainloader_minibatch,mlp2)\n",
        "test_set_preds,actual_test = make_predictions(testloader,mlp2)\n",
        "\n",
        "\n",
        "from sklearn.metrics import f1_score\n",
        "f21=f1_score(actual_train, train_set_preds, labels=None, pos_label=1, average='micro', sample_weight=None, zero_division='warn')\n",
        "f22=f1_score(actual_test, test_set_preds, labels=None, pos_label=1, average='micro', sample_weight=None, zero_division='warn')\n",
        "print(f21)\n",
        "print(f22)"
      ],
      "metadata": {
        "colab": {
          "base_uri": "https://localhost:8080/"
        },
        "id": "Z0VyNAstPJk2",
        "outputId": "952c7493-c4c4-42ec-8a22-34147cb3050d"
      },
      "id": "Z0VyNAstPJk2",
      "execution_count": 21,
      "outputs": [
        {
          "output_type": "stream",
          "name": "stdout",
          "text": [
            "0.9722\n",
            "0.9665\n"
          ]
        }
      ]
    },
    {
      "cell_type": "markdown",
      "source": [
        "SGD with L2 regularization"
      ],
      "metadata": {
        "id": "pyMrOdRSAIcp"
      },
      "id": "pyMrOdRSAIcp"
    },
    {
      "cell_type": "code",
      "source": [
        "\n",
        "train_loss3,test_loss3,t=runOptimizer(optimizer3,mlp3,trainloader_minibatch,testloader)\n"
      ],
      "metadata": {
        "id": "xSbs4-vQFoAl"
      },
      "id": "xSbs4-vQFoAl",
      "execution_count": 22,
      "outputs": []
    },
    {
      "cell_type": "code",
      "source": [
        "\n",
        "plot(train_loss3,test_loss3)"
      ],
      "metadata": {
        "colab": {
          "base_uri": "https://localhost:8080/",
          "height": 265
        },
        "id": "0mLHcH4Osqoq",
        "outputId": "808fb756-439b-4508-e157-cfe20b7fd913"
      },
      "id": "0mLHcH4Osqoq",
      "execution_count": 23,
      "outputs": [
        {
          "output_type": "display_data",
          "data": {
            "text/plain": [
              "<Figure size 432x288 with 1 Axes>"
            ],
            "image/png": "[encoded data removed]"
          },
          "metadata": {
            "needs_background": "light"
          }
        }
      ]
    },
    {
      "cell_type": "code",
      "source": [
        "a31=accuracy(trainloader_minibatch,mlp3)\n",
        "a32=accuracy(testloader,mlp3)\n",
        "print(a31)\n",
        "print(a32)"
      ],
      "metadata": {
        "colab": {
          "base_uri": "https://localhost:8080/"
        },
        "id": "jTbXrQr7Ar2d",
        "outputId": "365c4f8a-5a41-43dd-b0a1-baaffa3f45f0"
      },
      "id": "jTbXrQr7Ar2d",
      "execution_count": 24,
      "outputs": [
        {
          "output_type": "stream",
          "name": "stdout",
          "text": [
            "0.895\n",
            "0.898\n"
          ]
        }
      ]
    },
    {
      "cell_type": "code",
      "source": [
        "train_set_preds,actual_train= make_predictions(trainloader_minibatch,mlp3)\n",
        "test_set_preds,actual_test = make_predictions(testloader,mlp3)\n",
        "\n",
        "\n",
        "from sklearn.metrics import f1_score\n",
        "f31=f1_score(actual_train, train_set_preds, labels=None, pos_label=1, average='micro', sample_weight=None, zero_division='warn')\n",
        "f32=f1_score(actual_test, test_set_preds, labels=None, pos_label=1, average='micro', sample_weight=None, zero_division='warn')\n",
        "print(f31)\n",
        "print(f32)"
      ],
      "metadata": {
        "colab": {
          "base_uri": "https://localhost:8080/"
        },
        "id": "waR0i-_PPaGt",
        "outputId": "9fd4dcc2-ea97-410d-f2af-82782c732135"
      },
      "id": "waR0i-_PPaGt",
      "execution_count": 25,
      "outputs": [
        {
          "output_type": "stream",
          "name": "stdout",
          "text": [
            "0.89465\n",
            "0.8985\n"
          ]
        }
      ]
    },
    {
      "cell_type": "markdown",
      "source": [
        "RMSProp"
      ],
      "metadata": {
        "id": "TDt_AwuAAxIH"
      },
      "id": "TDt_AwuAAxIH"
    },
    {
      "cell_type": "code",
      "source": [
        "\n",
        "train_loss4,test_loss4,t=runOptimizer(optimizer4,mlp4,trainloader_minibatch,testloader)\n"
      ],
      "metadata": {
        "id": "E2b6chDIFoFp"
      },
      "id": "E2b6chDIFoFp",
      "execution_count": 26,
      "outputs": []
    },
    {
      "cell_type": "code",
      "source": [
        "\n",
        "plot(train_loss4,test_loss4)"
      ],
      "metadata": {
        "colab": {
          "base_uri": "https://localhost:8080/",
          "height": 265
        },
        "id": "IONUMxQxswrJ",
        "outputId": "6c543527-8e09-4487-a6b6-e5e177ee0de1"
      },
      "id": "IONUMxQxswrJ",
      "execution_count": 27,
      "outputs": [
        {
          "output_type": "display_data",
          "data": {
            "text/plain": [
              "<Figure size 432x288 with 1 Axes>"
            ],
            "image/png": "[encoded data removed]"
          },
          "metadata": {
            "needs_background": "light"
          }
        }
      ]
    },
    {
      "cell_type": "code",
      "source": [
        "a41=accuracy(trainloader_minibatch,mlp4)\n",
        "a42=accuracy(testloader,mlp4)\n",
        "print(a41)\n",
        "print(a42)"
      ],
      "metadata": {
        "colab": {
          "base_uri": "https://localhost:8080/"
        },
        "id": "4Tlfe4YJAz5-",
        "outputId": "2c8a03c9-6a8e-4e6f-8e4f-f35c7e5eb7c7"
      },
      "id": "4Tlfe4YJAz5-",
      "execution_count": 28,
      "outputs": [
        {
          "output_type": "stream",
          "name": "stdout",
          "text": [
            "0.964\n",
            "0.954\n"
          ]
        }
      ]
    },
    {
      "cell_type": "code",
      "source": [
        "train_set_preds,actual_train= make_predictions(trainloader_minibatch,mlp4)\n",
        "test_set_preds,actual_test = make_predictions(testloader,mlp4)\n",
        "\n",
        "\n",
        "from sklearn.metrics import f1_score\n",
        "f41=f1_score(actual_train, train_set_preds, labels=None, pos_label=1, average='micro', sample_weight=None, zero_division='warn')\n",
        "f42=f1_score(actual_test, test_set_preds, labels=None, pos_label=1, average='micro', sample_weight=None, zero_division='warn')\n",
        "print(f41)\n",
        "print(f42)"
      ],
      "metadata": {
        "colab": {
          "base_uri": "https://localhost:8080/"
        },
        "id": "tvp5pZhCPyQa",
        "outputId": "79ba8c25-d7bc-45cd-b82f-58f7ae1f8e4e"
      },
      "id": "tvp5pZhCPyQa",
      "execution_count": 29,
      "outputs": [
        {
          "output_type": "stream",
          "name": "stdout",
          "text": [
            "0.9635\n",
            "0.9537\n"
          ]
        }
      ]
    },
    {
      "cell_type": "markdown",
      "source": [
        "ADAM"
      ],
      "metadata": {
        "id": "Pj0ShhBsA4Xl"
      },
      "id": "Pj0ShhBsA4Xl"
    },
    {
      "cell_type": "code",
      "source": [
        "\n",
        "train_loss5,test_loss5,t=runOptimizer(optimizer5,mlp5,trainloader_minibatch,testloader)\n"
      ],
      "metadata": {
        "id": "JmvGvcRhF6oz"
      },
      "id": "JmvGvcRhF6oz",
      "execution_count": 30,
      "outputs": []
    },
    {
      "cell_type": "code",
      "source": [
        "\n",
        "plot(train_loss5,test_loss5)"
      ],
      "metadata": {
        "colab": {
          "base_uri": "https://localhost:8080/",
          "height": 265
        },
        "id": "g0M91PsDs7f-",
        "outputId": "d50190b8-3fe7-4079-ec2a-691d54b937ac"
      },
      "id": "g0M91PsDs7f-",
      "execution_count": 31,
      "outputs": [
        {
          "output_type": "display_data",
          "data": {
            "text/plain": [
              "<Figure size 432x288 with 1 Axes>"
            ],
            "image/png": "[encoded data removed]"
          },
          "metadata": {
            "needs_background": "light"
          }
        }
      ]
    },
    {
      "cell_type": "code",
      "source": [
        "a51=accuracy(trainloader_minibatch,mlp5)\n",
        "a52=accuracy(testloader,mlp5)\n",
        "print(a51)\n",
        "print(a52)"
      ],
      "metadata": {
        "id": "xfOm4qW0u1qV",
        "colab": {
          "base_uri": "https://localhost:8080/"
        },
        "outputId": "e91e514b-f78e-4013-a24e-6ace9a44f713"
      },
      "id": "xfOm4qW0u1qV",
      "execution_count": 32,
      "outputs": [
        {
          "output_type": "stream",
          "name": "stdout",
          "text": [
            "0.987\n",
            "0.97\n"
          ]
        }
      ]
    },
    {
      "cell_type": "code",
      "source": [
        "train_set_preds,actual_train= make_predictions(trainloader_minibatch,mlp5)\n",
        "test_set_preds,actual_test = make_predictions(testloader,mlp5)\n",
        "\n",
        "\n",
        "from sklearn.metrics import f1_score\n",
        "f51=f1_score(actual_train, train_set_preds, labels=None, pos_label=1, average='micro', sample_weight=None, zero_division='warn')\n",
        "f52=f1_score(actual_test, test_set_preds, labels=None, pos_label=1, average='micro', sample_weight=None, zero_division='warn')\n",
        "print(f51)\n",
        "print(f52)"
      ],
      "metadata": {
        "id": "4CjuXZhvBILT",
        "colab": {
          "base_uri": "https://localhost:8080/"
        },
        "outputId": "0aab81e6-84f5-40c5-a358-a7e0f022dc2b"
      },
      "id": "4CjuXZhvBILT",
      "execution_count": 33,
      "outputs": [
        {
          "output_type": "stream",
          "name": "stdout",
          "text": [
            "0.9866666666666668\n",
            "0.9695\n"
          ]
        }
      ]
    },
    {
      "cell_type": "code",
      "source": [
        "from prettytable import PrettyTable\n",
        "table = PrettyTable([\"Optimizer\", \"Train Accuracy\", \"Test Accuracy\", \"F1 score train\", \"F1 score test\"])\n",
        "table.align = 'l'\n",
        "table.add_row([\"SGD\", a11, a12, f11, f12])\n",
        "table.add_row([\"SGD with momentum\", a21, a22, f21, f22])\n",
        "table.add_row([\"SGD with L2 regularization\", a31, a32, f31, f32])\n",
        "table.add_row([\"RMSProp\", a41, a42, f41, f42])\n",
        "table.add_row([\"Adam\", a51, a52, f51, f52])\n",
        "\n"
      ],
      "metadata": {
        "id": "5ppn_K8ZxDjh"
      },
      "id": "5ppn_K8ZxDjh",
      "execution_count": 34,
      "outputs": []
    },
    {
      "cell_type": "code",
      "source": [
        "print(table)"
      ],
      "metadata": {
        "colab": {
          "base_uri": "https://localhost:8080/"
        },
        "id": "sVHCqtqlxDpY",
        "outputId": "13dd6f67-3900-4252-ae58-6f3190f14c6d"
      },
      "id": "sVHCqtqlxDpY",
      "execution_count": 35,
      "outputs": [
        {
          "output_type": "stream",
          "name": "stdout",
          "text": [
            "+----------------------------+----------------+---------------+--------------------+---------------+\n",
            "| Optimizer                  | Train Accuracy | Test Accuracy | F1 score train     | F1 score test |\n",
            "+----------------------------+----------------+---------------+--------------------+---------------+\n",
            "| SGD                        | 0.899          | 0.9           | 0.8986             | 0.9           |\n",
            "| SGD with momentum          | 0.972          | 0.966         | 0.9722             | 0.9665        |\n",
            "| SGD with L2 regularization | 0.895          | 0.898         | 0.89465            | 0.8985        |\n",
            "| RMSProp                    | 0.964          | 0.954         | 0.9635             | 0.9537        |\n",
            "| Adam                       | 0.987          | 0.97          | 0.9866666666666668 | 0.9695        |\n",
            "+----------------------------+----------------+---------------+--------------------+---------------+\n"
          ]
        }
      ]
    },
    {
      "cell_type": "code",
      "source": [],
      "metadata": {
        "id": "Y8mFw8lNxivB"
      },
      "id": "Y8mFw8lNxivB",
      "execution_count": 35,
      "outputs": []
    },
    {
      "cell_type": "markdown",
      "id": "d09ffca0",
      "metadata": {
        "jp-MarkdownHeadingCollapsed": true,
        "tags": [],
        "id": "d09ffca0"
      },
      "source": [
        "### Step five: Using SimpleMLP and Adam optimizer, train models using 2 different lr_schedulers.\n",
        "Select 2 of **MultiplicativeLR**, **MultiStepLR**, **LinearLR** and **ExponentialLR**\n",
        "\n",
        "Compare the results among different LR schedulers and the original model which didn't employ any LR scheduler. Compile results in a tabular form. Plot losses for each. Explain results."
      ]
    },
    {
      "cell_type": "markdown",
      "source": [
        "ExponentialLR"
      ],
      "metadata": {
        "id": "u1Zr7liuFGF8"
      },
      "id": "u1Zr7liuFGF8"
    },
    {
      "cell_type": "code",
      "source": [
        "from torch.optim.lr_scheduler import MultiStepLR\n",
        "from torch.optim.lr_scheduler import ExponentialLR\n",
        "\n",
        "mlp1 = SimpleMLP()\n",
        "cross_el = nn.CrossEntropyLoss()\n",
        "optimizer = torch.optim.Adam(mlp1.parameters(), lr=0.003) #e-1\n",
        "epoch = 10\n",
        "scheduler1 = ExponentialLR(optimizer, gamma=0.9)\n",
        "\n"
      ],
      "metadata": {
        "id": "de2UVlTUceXn"
      },
      "id": "de2UVlTUceXn",
      "execution_count": 36,
      "outputs": []
    },
    {
      "cell_type": "code",
      "source": [
        "train_loss1,test_loss1,t=runOptimizer(optimizer,mlp1,trainloader_minibatch,testloader,scheduler1)"
      ],
      "metadata": {
        "id": "Y10vS8CJyZ3q"
      },
      "id": "Y10vS8CJyZ3q",
      "execution_count": 37,
      "outputs": []
    },
    {
      "cell_type": "code",
      "source": [
        "\n",
        "plot(train_loss1,test_loss1)"
      ],
      "metadata": {
        "id": "eC-m_h21y-If",
        "colab": {
          "base_uri": "https://localhost:8080/",
          "height": 265
        },
        "outputId": "56f1a297-4885-4655-a1a5-60891635cbff"
      },
      "id": "eC-m_h21y-If",
      "execution_count": 38,
      "outputs": [
        {
          "output_type": "display_data",
          "data": {
            "text/plain": [
              "<Figure size 432x288 with 1 Axes>"
            ],
            "image/png": "[encoded data removed]"
          },
          "metadata": {
            "needs_background": "light"
          }
        }
      ]
    },
    {
      "cell_type": "code",
      "source": [
        "a11=accuracy(trainloader_minibatch,mlp1)\n",
        "a12=accuracy(testloader,mlp1)\n",
        "print(a11)\n",
        "print(a12)"
      ],
      "metadata": {
        "colab": {
          "base_uri": "https://localhost:8080/"
        },
        "id": "2hjBL3eNBT1O",
        "outputId": "6b3e340b-7b49-4674-c5ed-5424ae15c4e0"
      },
      "id": "2hjBL3eNBT1O",
      "execution_count": 39,
      "outputs": [
        {
          "output_type": "stream",
          "name": "stdout",
          "text": [
            "0.998\n",
            "0.979\n"
          ]
        }
      ]
    },
    {
      "cell_type": "code",
      "source": [
        "train_set_preds,actual_train= make_predictions(trainloader_minibatch,mlp1)\n",
        "test_set_preds,actual_test = make_predictions(testloader,mlp1)\n",
        "\n",
        "\n",
        "from sklearn.metrics import f1_score\n",
        "f11=f1_score(actual_train, train_set_preds, labels=None, pos_label=1, average='micro', sample_weight=None, zero_division='warn')\n",
        "f12=f1_score(actual_test, test_set_preds, labels=None, pos_label=1, average='micro', sample_weight=None, zero_division='warn')\n",
        "print(f11)\n",
        "print(f12)"
      ],
      "metadata": {
        "colab": {
          "base_uri": "https://localhost:8080/"
        },
        "id": "t4apTZUZQSAy",
        "outputId": "b727294b-ab7b-4e36-b312-9d0c69d40e8c"
      },
      "id": "t4apTZUZQSAy",
      "execution_count": 40,
      "outputs": [
        {
          "output_type": "stream",
          "name": "stdout",
          "text": [
            "0.9976166666666667\n",
            "0.9787\n"
          ]
        }
      ]
    },
    {
      "cell_type": "markdown",
      "source": [
        "MultiStepLR"
      ],
      "metadata": {
        "id": "g-ObMDUzFH93"
      },
      "id": "g-ObMDUzFH93"
    },
    {
      "cell_type": "code",
      "source": [
        "mlp2 = SimpleMLP()\n",
        "cross_el = nn.CrossEntropyLoss()\n",
        "optimizer = torch.optim.Adam(mlp2.parameters(), lr=0.003) #e-1\n",
        "scheduler2 = MultiStepLR(optimizer, milestones=[30,80], gamma=0.1)"
      ],
      "metadata": {
        "id": "iru56kkp1TnG"
      },
      "id": "iru56kkp1TnG",
      "execution_count": 41,
      "outputs": []
    },
    {
      "cell_type": "code",
      "source": [
        "train_loss2,test_loss2,t=runOptimizer(optimizer,mlp2,trainloader_minibatch,testloader,scheduler2)"
      ],
      "metadata": {
        "id": "v9djGp7oyqwz"
      },
      "id": "v9djGp7oyqwz",
      "execution_count": 42,
      "outputs": []
    },
    {
      "cell_type": "code",
      "source": [
        "\n",
        "plot(train_loss2,test_loss2)"
      ],
      "metadata": {
        "id": "-8EzIoVFy_FC",
        "colab": {
          "base_uri": "https://localhost:8080/",
          "height": 265
        },
        "outputId": "0603a428-76f4-487b-b3fd-ae25fd5267c0"
      },
      "id": "-8EzIoVFy_FC",
      "execution_count": 43,
      "outputs": [
        {
          "output_type": "display_data",
          "data": {
            "text/plain": [
              "<Figure size 432x288 with 1 Axes>"
            ],
            "image/png": "[encoded data removed]"
          },
          "metadata": {
            "needs_background": "light"
          }
        }
      ]
    },
    {
      "cell_type": "code",
      "source": [
        "a21=accuracy(trainloader_minibatch,mlp2)\n",
        "a22=accuracy(testloader,mlp2)\n",
        "print(a21)\n",
        "print(a22)"
      ],
      "metadata": {
        "colab": {
          "base_uri": "https://localhost:8080/"
        },
        "id": "VaSFqRPABXuY",
        "outputId": "59a33f87-8c63-4159-9a27-753fe81e95a7"
      },
      "id": "VaSFqRPABXuY",
      "execution_count": 44,
      "outputs": [
        {
          "output_type": "stream",
          "name": "stdout",
          "text": [
            "0.991\n",
            "0.975\n"
          ]
        }
      ]
    },
    {
      "cell_type": "code",
      "source": [
        "train_set_preds,actual_train= make_predictions(trainloader_minibatch,mlp2)\n",
        "test_set_preds,actual_test = make_predictions(testloader,mlp2)\n",
        "\n",
        "\n",
        "from sklearn.metrics import f1_score\n",
        "f21=f1_score(actual_train, train_set_preds, labels=None, pos_label=1, average='micro', sample_weight=None, zero_division='warn')\n",
        "f22=f1_score(actual_test, test_set_preds, labels=None, pos_label=1, average='micro', sample_weight=None, zero_division='warn')\n",
        "print(f21)\n",
        "print(f22)"
      ],
      "metadata": {
        "id": "2II7r7OPyZ9a",
        "colab": {
          "base_uri": "https://localhost:8080/"
        },
        "outputId": "bfc4f352-045a-4dc3-bedb-b6dab5c280e9"
      },
      "id": "2II7r7OPyZ9a",
      "execution_count": 45,
      "outputs": [
        {
          "output_type": "stream",
          "name": "stdout",
          "text": [
            "0.9912833333333333\n",
            "0.9749\n"
          ]
        }
      ]
    },
    {
      "cell_type": "code",
      "source": [
        "\n",
        "table = PrettyTable([\"Optimizer\", \"Train Accuracy\", \"Test Accuracy\", \"F1 score train\", \"F1 score test\"])\n",
        "table.align = 'l'\n",
        "table.add_row([\"Simple Adam\", a51, a52, f51, f52])\n",
        "table.add_row([\"Adam with ExponentialLR\", a11, a12, f11, f12])\n",
        "table.add_row([\"Adam with MultiStepLR\", a21, a22, f21, f22])\n"
      ],
      "metadata": {
        "id": "-djiwj__0u4U"
      },
      "id": "-djiwj__0u4U",
      "execution_count": 46,
      "outputs": []
    },
    {
      "cell_type": "code",
      "source": [
        "print(table)"
      ],
      "metadata": {
        "colab": {
          "base_uri": "https://localhost:8080/"
        },
        "id": "aZNg7fU03OqB",
        "outputId": "57cbf24e-605c-4f07-cc12-7edc8b4f62fb"
      },
      "id": "aZNg7fU03OqB",
      "execution_count": 47,
      "outputs": [
        {
          "output_type": "stream",
          "name": "stdout",
          "text": [
            "+-------------------------+----------------+---------------+--------------------+---------------+\n",
            "| Optimizer               | Train Accuracy | Test Accuracy | F1 score train     | F1 score test |\n",
            "+-------------------------+----------------+---------------+--------------------+---------------+\n",
            "| Simple Adam             | 0.987          | 0.97          | 0.9866666666666668 | 0.9695        |\n",
            "| Adam with ExponentialLR | 0.998          | 0.979         | 0.9976166666666667 | 0.9787        |\n",
            "| Adam with MultiStepLR   | 0.991          | 0.975         | 0.9912833333333333 | 0.9749        |\n",
            "+-------------------------+----------------+---------------+--------------------+---------------+\n"
          ]
        }
      ]
    },
    {
      "cell_type": "markdown",
      "id": "91631d83",
      "metadata": {
        "jp-MarkdownHeadingCollapsed": true,
        "tags": [],
        "id": "91631d83"
      },
      "source": [
        "### Step six: Define 3 models with following changes:\n",
        "1. Add BatchNorm\n",
        "2. Add Dropout\n",
        "3. Add BatchNorm and Dropout"
      ]
    },
    {
      "cell_type": "code",
      "source": [
        "\n",
        "class BatchMLP(nn.Module):\n",
        "    def __init__(self):\n",
        "        super(BatchMLP, self).__init__()\n",
        "        self.fc1 = nn.Linear(28*28, 100)\n",
        "        self.bn1 = nn.BatchNorm1d(100)\n",
        "        self.fc2 = nn.Linear(100, 50)\n",
        "        self.bn2 = nn.BatchNorm1d(50)\n",
        "        self.fc3 = nn.Linear(50, 10)\n",
        "\n",
        "    def forward(self, x):\n",
        "        x = x.view(-1, 784)\n",
        "        x = self.fc1(x)\n",
        "        x = self.bn1(x)\n",
        "        x = nn.functional.relu(x)\n",
        "        x = self.fc2(x)\n",
        "        x = self.bn2(x)\n",
        "        x = nn.functional.relu(x)\n",
        "        output = self.fc3(x)\n",
        "        return output\n",
        "\n",
        "\n",
        "class DropoutMLP(nn.Module):\n",
        "    def __init__(self):\n",
        "        super(DropoutMLP, self).__init__()\n",
        "        self.fc1 = nn.Linear(28*28, 100)\n",
        "        self.relu = nn.ReLU()\n",
        "        self.dropout1 = nn.Dropout(p=0.2)\n",
        "        self.fc2 = nn.Linear(100, 50)\n",
        "        self.dropout2 = nn.Dropout(0.2)\n",
        "        self.fc3 = nn.Linear(50, 10)\n",
        "\n",
        "\n",
        "    def forward(self, x):\n",
        "        x = x.view(x.size(0), -1)\n",
        "        x = self.fc1(x)\n",
        "        x = self.relu(x)\n",
        "        x = self.dropout1(x)\n",
        "        x = self.fc2(x)\n",
        "        x = nn.functional.relu(x)\n",
        "        x = self.dropout2(x)\n",
        "        output = self.fc3(x)\n",
        "        return output\n",
        "\n",
        "class BatchDropoutMLP(nn.Module):\n",
        "    def __init__(self):\n",
        "        super(BatchDropoutMLP, self).__init__()\n",
        "        self.fc1 = nn.Linear(28*28, 100)\n",
        "        self.bn1 = nn.BatchNorm1d(100)\n",
        "        self.dropout1 = nn.Dropout(0.2)\n",
        "        self.fc2 = nn.Linear(100, 50)\n",
        "        self.bn2 = nn.BatchNorm1d(50)\n",
        "        self.dropout2 = nn.Dropout(0.2)\n",
        "        self.fc3 = nn.Linear(50, 10)\n",
        "\n",
        "    def forward(self, x):\n",
        "        x = x.view(-1, 784)\n",
        "        x = self.fc1(x)\n",
        "        x = self.bn1(x)\n",
        "        x = nn.functional.relu(x)\n",
        "        x = self.dropout1(x)\n",
        "        x = self.fc2(x)\n",
        "        x = self.bn2(x)\n",
        "        x = nn.functional.relu(x)\n",
        "        x = self.dropout2(x)\n",
        "        output = self.fc3(x)\n",
        "        return output\n"
      ],
      "metadata": {
        "id": "sv2nJIlhuSAu"
      },
      "id": "sv2nJIlhuSAu",
      "execution_count": 48,
      "outputs": []
    },
    {
      "cell_type": "markdown",
      "id": "adc3d78f",
      "metadata": {
        "jp-MarkdownHeadingCollapsed": true,
        "tags": [],
        "id": "adc3d78f"
      },
      "source": [
        "### Step seven: Train the above models and compare with SimpleMLP.\n",
        "\n",
        "Use your choice of optimizer, use no lr_scheduler so as to re-use the previous results.\n",
        "\n",
        "Perform analysis. You've got the drill by now."
      ]
    },
    {
      "cell_type": "markdown",
      "source": [
        "BatchNorm"
      ],
      "metadata": {
        "id": "W0Ikek_cFdYc"
      },
      "id": "W0Ikek_cFdYc"
    },
    {
      "cell_type": "code",
      "source": [
        "batchmlp=BatchMLP()\n",
        "optimizer = torch.optim.Adam(batchmlp.parameters(), lr=0.003) #e-1\n",
        "train_loss1,test_loss1,t=runOptimizer(optimizer,batchmlp,trainloader_minibatch,testloader)\n"
      ],
      "metadata": {
        "id": "urKrjSyvk4G2"
      },
      "id": "urKrjSyvk4G2",
      "execution_count": 49,
      "outputs": []
    },
    {
      "cell_type": "code",
      "source": [
        "\n",
        "plot(train_loss1,test_loss1)"
      ],
      "metadata": {
        "id": "viUWFXzjmjr4",
        "colab": {
          "base_uri": "https://localhost:8080/",
          "height": 265
        },
        "outputId": "29dcfb71-c3fd-4416-eb11-1d9944a8c486"
      },
      "id": "viUWFXzjmjr4",
      "execution_count": 50,
      "outputs": [
        {
          "output_type": "display_data",
          "data": {
            "text/plain": [
              "<Figure size 432x288 with 1 Axes>"
            ],
            "image/png": "[encoded data removed]"
          },
          "metadata": {
            "needs_background": "light"
          }
        }
      ]
    },
    {
      "cell_type": "code",
      "source": [
        "a21=accuracy(trainloader_minibatch,batchmlp)\n",
        "a22=accuracy(testloader,batchmlp)\n",
        "print(a21)\n",
        "print(a22)  "
      ],
      "metadata": {
        "id": "sk2uPiW-T3t6",
        "colab": {
          "base_uri": "https://localhost:8080/"
        },
        "outputId": "04016331-1ec4-4284-d4f4-794d1952d00a"
      },
      "id": "sk2uPiW-T3t6",
      "execution_count": 51,
      "outputs": [
        {
          "output_type": "stream",
          "name": "stdout",
          "text": [
            "0.991\n",
            "0.974\n"
          ]
        }
      ]
    },
    {
      "cell_type": "code",
      "source": [
        "train_set_preds,actual_train= make_predictions(trainloader_minibatch,batchmlp)\n",
        "test_set_preds,actual_test = make_predictions(testloader,batchmlp)\n",
        "\n",
        "\n",
        "from sklearn.metrics import f1_score\n",
        "f21=f1_score(actual_train, train_set_preds, labels=None, pos_label=1, average='micro', sample_weight=None, zero_division='warn')\n",
        "f22=f1_score(actual_test, test_set_preds, labels=None, pos_label=1, average='micro', sample_weight=None, zero_division='warn')\n",
        "print(f21)\n",
        "print(f22)"
      ],
      "metadata": {
        "colab": {
          "base_uri": "https://localhost:8080/"
        },
        "id": "TuBO-DF9RY-X",
        "outputId": "0b5fd5a6-fbf3-4cf2-c2b9-9d0ced998a2e"
      },
      "id": "TuBO-DF9RY-X",
      "execution_count": 52,
      "outputs": [
        {
          "output_type": "stream",
          "name": "stdout",
          "text": [
            "0.9949333333333333\n",
            "0.9777\n"
          ]
        }
      ]
    },
    {
      "cell_type": "markdown",
      "source": [
        "Dropout"
      ],
      "metadata": {
        "id": "T_kwi6IoFRG9"
      },
      "id": "T_kwi6IoFRG9"
    },
    {
      "cell_type": "code",
      "source": [
        "dropoutmlp=DropoutMLP()\n",
        "optimizer = torch.optim.Adam(dropoutmlp.parameters(), lr=0.003) #e-1\n",
        "train_loss2,test_loss2,t=runOptimizer(optimizer,dropoutmlp,trainloader_minibatch,testloader)"
      ],
      "metadata": {
        "id": "FPE-uzUzk4J_"
      },
      "id": "FPE-uzUzk4J_",
      "execution_count": 53,
      "outputs": []
    },
    {
      "cell_type": "code",
      "source": [
        "\n",
        "plot(train_loss2,test_loss2)"
      ],
      "metadata": {
        "id": "Sp8BcQnpmkh7",
        "colab": {
          "base_uri": "https://localhost:8080/",
          "height": 265
        },
        "outputId": "19682ab8-bce5-4d86-aa9d-0de6f92fed3d"
      },
      "id": "Sp8BcQnpmkh7",
      "execution_count": 54,
      "outputs": [
        {
          "output_type": "display_data",
          "data": {
            "text/plain": [
              "<Figure size 432x288 with 1 Axes>"
            ],
            "image/png": "[encoded data removed]"
          },
          "metadata": {
            "needs_background": "light"
          }
        }
      ]
    },
    {
      "cell_type": "code",
      "source": [
        "a31=accuracy(trainloader_minibatch,dropoutmlp)\n",
        "a32=accuracy(testloader,dropoutmlp)\n",
        "print(a31)\n",
        "print(a32)  "
      ],
      "metadata": {
        "id": "NZ4yZZj1UBkH",
        "colab": {
          "base_uri": "https://localhost:8080/"
        },
        "outputId": "98f3c1e8-f106-4865-9d43-7c14e8d7d9cf"
      },
      "id": "NZ4yZZj1UBkH",
      "execution_count": 55,
      "outputs": [
        {
          "output_type": "stream",
          "name": "stdout",
          "text": [
            "0.973\n",
            "0.965\n"
          ]
        }
      ]
    },
    {
      "cell_type": "code",
      "source": [
        "train_set_preds,actual_train= make_predictions(trainloader_minibatch,dropoutmlp)\n",
        "test_set_preds,actual_test = make_predictions(testloader,dropoutmlp)\n",
        "\n",
        "\n",
        "from sklearn.metrics import f1_score\n",
        "f31=f1_score(actual_train, train_set_preds, labels=None, pos_label=1, average='micro', sample_weight=None, zero_division='warn')\n",
        "f32=f1_score(actual_test, test_set_preds, labels=None, pos_label=1, average='micro', sample_weight=None, zero_division='warn')\n",
        "print(f31)\n",
        "print(f32)"
      ],
      "metadata": {
        "colab": {
          "base_uri": "https://localhost:8080/"
        },
        "id": "jICJiR3nRmre",
        "outputId": "330d847b-6c38-4543-fd41-db885c7af159"
      },
      "id": "jICJiR3nRmre",
      "execution_count": 56,
      "outputs": [
        {
          "output_type": "stream",
          "name": "stdout",
          "text": [
            "0.98765\n",
            "0.9764\n"
          ]
        }
      ]
    },
    {
      "cell_type": "markdown",
      "source": [
        "Batchnorm and Dropout"
      ],
      "metadata": {
        "id": "tBjofLe4FSs_"
      },
      "id": "tBjofLe4FSs_"
    },
    {
      "cell_type": "code",
      "source": [
        "batchdropoutmlp=BatchDropoutMLP()\n",
        "optimizer = torch.optim.Adam(batchdropoutmlp.parameters(), lr=0.003) #e-1\n",
        "train_loss3,test_loss3,t=runOptimizer(optimizer,batchdropoutmlp,trainloader_minibatch,testloader)"
      ],
      "metadata": {
        "id": "ZSx3Ohgik4NO"
      },
      "id": "ZSx3Ohgik4NO",
      "execution_count": 57,
      "outputs": []
    },
    {
      "cell_type": "code",
      "source": [
        "\n",
        "plot(train_loss3,test_loss3)"
      ],
      "metadata": {
        "id": "sXxGMvhymmNo",
        "colab": {
          "base_uri": "https://localhost:8080/",
          "height": 265
        },
        "outputId": "8d2543ce-cfe2-4c06-9a8b-a60738f2945f"
      },
      "id": "sXxGMvhymmNo",
      "execution_count": 58,
      "outputs": [
        {
          "output_type": "display_data",
          "data": {
            "text/plain": [
              "<Figure size 432x288 with 1 Axes>"
            ],
            "image/png": "[encoded data removed]"
          },
          "metadata": {
            "needs_background": "light"
          }
        }
      ]
    },
    {
      "cell_type": "code",
      "source": [
        "a41=accuracy(trainloader_minibatch,batchdropoutmlp)\n",
        "a42=accuracy(testloader,batchdropoutmlp)\n",
        "print(a41)\n",
        "print(a42) "
      ],
      "metadata": {
        "id": "issrWC7cUFXA",
        "colab": {
          "base_uri": "https://localhost:8080/"
        },
        "outputId": "2cf674f0-f658-4238-9b98-8a2da199b2b7"
      },
      "id": "issrWC7cUFXA",
      "execution_count": 59,
      "outputs": [
        {
          "output_type": "stream",
          "name": "stdout",
          "text": [
            "0.973\n",
            "0.961\n"
          ]
        }
      ]
    },
    {
      "cell_type": "code",
      "source": [
        "train_set_preds,actual_train= make_predictions(trainloader_minibatch,batchdropoutmlp)\n",
        "test_set_preds,actual_test = make_predictions(testloader,batchdropoutmlp)\n",
        "\n",
        "\n",
        "from sklearn.metrics import f1_score\n",
        "f41=f1_score(actual_train, train_set_preds, labels=None, pos_label=1, average='micro', sample_weight=None, zero_division='warn')\n",
        "f42=f1_score(actual_test, test_set_preds, labels=None, pos_label=1, average='micro', sample_weight=None, zero_division='warn')\n",
        "print(f41)\n",
        "print(f42)"
      ],
      "metadata": {
        "id": "wCKISJqGk4W9",
        "colab": {
          "base_uri": "https://localhost:8080/"
        },
        "outputId": "f12bffba-8893-4d1f-9049-7dae8d5be03c"
      },
      "id": "wCKISJqGk4W9",
      "execution_count": 60,
      "outputs": [
        {
          "output_type": "stream",
          "name": "stdout",
          "text": [
            "0.9904333333333334\n",
            "0.9775\n"
          ]
        }
      ]
    },
    {
      "cell_type": "code",
      "source": [
        "table = PrettyTable([\"Optimizer\", \"Train Accuracy\", \"Test Accuracy\", \"F1 score train\", \"F1 score test\"])\n",
        "table.align = 'l'\n",
        "table.add_row([\"Simple Adam\", a51, a52, f51, f52])\n",
        "table.add_row([\"Adam with Batchnorm\", a21, a22, f21, f22])\n",
        "table.add_row([\"Adam with Dropout\", a31, a32, f31, f32])\n",
        "table.add_row([\"Adam with Batchnorm and Dropout\", a41, a42, f41, f42])"
      ],
      "metadata": {
        "id": "RyxW91R3306B"
      },
      "id": "RyxW91R3306B",
      "execution_count": 61,
      "outputs": []
    },
    {
      "cell_type": "code",
      "source": [
        "print(table)  "
      ],
      "metadata": {
        "colab": {
          "base_uri": "https://localhost:8080/"
        },
        "id": "kGiQFQmO31Gt",
        "outputId": "320e6ac2-9390-40cf-acb7-47fac002be31"
      },
      "id": "kGiQFQmO31Gt",
      "execution_count": 62,
      "outputs": [
        {
          "output_type": "stream",
          "name": "stdout",
          "text": [
            "+---------------------------------+----------------+---------------+--------------------+---------------+\n",
            "| Optimizer                       | Train Accuracy | Test Accuracy | F1 score train     | F1 score test |\n",
            "+---------------------------------+----------------+---------------+--------------------+---------------+\n",
            "| Simple Adam                     | 0.987          | 0.97          | 0.9866666666666668 | 0.9695        |\n",
            "| Adam with Batchnorm             | 0.991          | 0.974         | 0.9949333333333333 | 0.9777        |\n",
            "| Adam with Dropout               | 0.973          | 0.965         | 0.98765            | 0.9764        |\n",
            "| Adam with Batchnorm and Dropout | 0.973          | 0.961         | 0.9904333333333334 | 0.9775        |\n",
            "+---------------------------------+----------------+---------------+--------------------+---------------+\n"
          ]
        }
      ]
    },
    {
      "cell_type": "markdown",
      "id": "159e3334",
      "metadata": {
        "jp-MarkdownHeadingCollapsed": true,
        "tags": [],
        "id": "159e3334"
      },
      "source": [
        "### Step eight: Mini-batch vs Stocastic\n",
        "Now that you might have a clear winner in your mind regarding which model and settings perform the best, train it on mini-batch and stocastic and compare time taken, loss curve, accuracy etc.\n",
        "\n",
        "Perform an analysis like never before!"
      ]
    },
    {
      "cell_type": "markdown",
      "source": [
        "\n",
        "Adam optimizer with simple mlp using ExponentialLR is the best model for given situation."
      ],
      "metadata": {
        "id": "X2-duTlp8fMo"
      },
      "id": "X2-duTlp8fMo"
    },
    {
      "cell_type": "markdown",
      "source": [
        "Mini-Batch Analysis"
      ],
      "metadata": {
        "id": "gHldMUHdTDbj"
      },
      "id": "gHldMUHdTDbj"
    },
    {
      "cell_type": "code",
      "source": [
        "mlp1=SimpleMLP()\n",
        "optimizer1 = torch.optim.Adam(mlp1.parameters(), lr=0.003) #e-1\n",
        "scheduler1 = ExponentialLR(optimizer1, gamma=0.9)"
      ],
      "metadata": {
        "id": "if-uTFOORe-l"
      },
      "id": "if-uTFOORe-l",
      "execution_count": 63,
      "outputs": []
    },
    {
      "cell_type": "code",
      "source": [
        "train_loss1,test_loss1,t1=runOptimizer(optimizer1,mlp1,trainloader_minibatch,testloader,scheduler1)\n",
        "plot(train_loss1,test_loss1)"
      ],
      "metadata": {
        "id": "83qKMgkpRfBi",
        "colab": {
          "base_uri": "https://localhost:8080/",
          "height": 265
        },
        "outputId": "d41aeb3c-e354-44be-b357-38ecc626010a"
      },
      "id": "83qKMgkpRfBi",
      "execution_count": 64,
      "outputs": [
        {
          "output_type": "display_data",
          "data": {
            "text/plain": [
              "<Figure size 432x288 with 1 Axes>"
            ],
            "image/png": "[encoded data removed]"
          },
          "metadata": {
            "needs_background": "light"
          }
        }
      ]
    },
    {
      "cell_type": "code",
      "source": [
        "a11=accuracy(trainloader_minibatch,mlp1)\n",
        "a12=accuracy(testloader,mlp1)\n",
        "print(a11)\n",
        "print(a12)  "
      ],
      "metadata": {
        "id": "adEDpbkjSzKY",
        "colab": {
          "base_uri": "https://localhost:8080/"
        },
        "outputId": "7d4e0fad-7669-4b5e-bc0e-7bdca116c23d"
      },
      "id": "adEDpbkjSzKY",
      "execution_count": 65,
      "outputs": [
        {
          "output_type": "stream",
          "name": "stdout",
          "text": [
            "0.996\n",
            "0.978\n"
          ]
        }
      ]
    },
    {
      "cell_type": "code",
      "source": [
        "train_set_preds,actual_train= make_predictions(trainloader_minibatch,mlp1)\n",
        "test_set_preds,actual_test = make_predictions(testloader,mlp1)\n",
        "\n",
        "\n",
        "from sklearn.metrics import f1_score\n",
        "f11=f1_score(actual_train, train_set_preds, labels=None, pos_label=1, average='micro', sample_weight=None, zero_division='warn')\n",
        "f12=f1_score(actual_test, test_set_preds, labels=None, pos_label=1, average='micro', sample_weight=None, zero_division='warn')\n",
        "print(f11)\n",
        "print(f12)"
      ],
      "metadata": {
        "colab": {
          "base_uri": "https://localhost:8080/"
        },
        "id": "UC3SYwrsSInr",
        "outputId": "35a83bfc-1f58-4139-e71d-7700680847ef"
      },
      "id": "UC3SYwrsSInr",
      "execution_count": 66,
      "outputs": [
        {
          "output_type": "stream",
          "name": "stdout",
          "text": [
            "0.9960166666666667\n",
            "0.9783\n"
          ]
        }
      ]
    },
    {
      "cell_type": "code",
      "source": [
        "print(\"time taken is \",t1)"
      ],
      "metadata": {
        "id": "T0-o5LUxRfEd",
        "colab": {
          "base_uri": "https://localhost:8080/"
        },
        "outputId": "7522310e-3b68-45bd-86e4-5d512af9e0a4"
      },
      "id": "T0-o5LUxRfEd",
      "execution_count": 67,
      "outputs": [
        {
          "output_type": "stream",
          "name": "stdout",
          "text": [
            "time taken is  2.381263307730357\n"
          ]
        }
      ]
    },
    {
      "cell_type": "markdown",
      "source": [
        "Stochastic analysis"
      ],
      "metadata": {
        "id": "Jb-9EjNlTIQq"
      },
      "id": "Jb-9EjNlTIQq"
    },
    {
      "cell_type": "code",
      "source": [
        "mlp2=SimpleMLP()\n",
        "optimizer2 = torch.optim.Adam(mlp2.parameters(), lr=0.003) #e-1\n",
        "scheduler2 = ExponentialLR(optimizer2, gamma=0.9)"
      ],
      "metadata": {
        "id": "u5AdAcPbSC2d"
      },
      "id": "u5AdAcPbSC2d",
      "execution_count": 68,
      "outputs": []
    },
    {
      "cell_type": "code",
      "source": [
        "train_loss2,test_loss2,t2=runOptimizer(optimizer2,mlp2,trainloader_stochastic,testloader,scheduler2)\n",
        "plot(train_loss2,test_loss2)"
      ],
      "metadata": {
        "id": "38nZ8ODJSNBC",
        "colab": {
          "base_uri": "https://localhost:8080/",
          "height": 265
        },
        "outputId": "5276f040-4afa-455b-bb42-5533659f24c3"
      },
      "id": "38nZ8ODJSNBC",
      "execution_count": 69,
      "outputs": [
        {
          "output_type": "display_data",
          "data": {
            "text/plain": [
              "<Figure size 432x288 with 1 Axes>"
            ],
            "image/png": "[encoded data removed]"
          },
          "metadata": {
            "needs_background": "light"
          }
        }
      ]
    },
    {
      "cell_type": "code",
      "source": [
        "a21=accuracy(trainloader_stochastic,mlp2)\n",
        "a22=accuracy(testloader,mlp2)\n",
        "print(a21)\n",
        "print(a22) \n"
      ],
      "metadata": {
        "id": "-gNbnvnOS7eV",
        "colab": {
          "base_uri": "https://localhost:8080/"
        },
        "outputId": "fe2f0c62-d48f-4e5a-f8ed-7fb85282f890"
      },
      "id": "-gNbnvnOS7eV",
      "execution_count": 70,
      "outputs": [
        {
          "output_type": "stream",
          "name": "stdout",
          "text": [
            "0.972\n",
            "0.956\n"
          ]
        }
      ]
    },
    {
      "cell_type": "code",
      "source": [
        "train_set_preds,actual_train= make_predictions(trainloader_stochastic,mlp2)\n",
        "test_set_preds,actual_test = make_predictions(testloader,mlp2)\n",
        "\n",
        "\n",
        "from sklearn.metrics import f1_score\n",
        "f21=f1_score(actual_train, train_set_preds, labels=None, pos_label=1, average='micro', sample_weight=None, zero_division='warn')\n",
        "f22=f1_score(actual_test, test_set_preds, labels=None, pos_label=1, average='micro', sample_weight=None, zero_division='warn')\n",
        "print(f21)\n",
        "print(f22)"
      ],
      "metadata": {
        "colab": {
          "base_uri": "https://localhost:8080/"
        },
        "id": "h0lKQGhYSRO4",
        "outputId": "7d89ddf2-b1e4-41fe-9c58-b65cb8da82ae"
      },
      "id": "h0lKQGhYSRO4",
      "execution_count": 71,
      "outputs": [
        {
          "output_type": "stream",
          "name": "stdout",
          "text": [
            "0.9723\n",
            "0.9555\n"
          ]
        }
      ]
    },
    {
      "cell_type": "code",
      "source": [
        "print(\"time taken is \",t2)"
      ],
      "metadata": {
        "id": "VawsbitJSarP",
        "colab": {
          "base_uri": "https://localhost:8080/"
        },
        "outputId": "22d31db5-fab2-4def-eed3-87448a7f98ce"
      },
      "id": "VawsbitJSarP",
      "execution_count": 72,
      "outputs": [
        {
          "output_type": "stream",
          "name": "stdout",
          "text": [
            "time taken is  68.85275229215623\n"
          ]
        }
      ]
    },
    {
      "cell_type": "code",
      "source": [
        "table = PrettyTable([\"Optimizer\", \"Train Accuracy\", \"Test Accuracy\", \"F1 score train\", \"F1 score test\",\"Time Taken\"])\n",
        "table.align = 'l'\n",
        "table.add_row([\"Mini-Batch\", a11, a12, f11, f12,t1])\n",
        "table.add_row([\"Stochastic\", a21, a22, f21, f22,t2])\n"
      ],
      "metadata": {
        "id": "gjBs1-yrRoWH"
      },
      "id": "gjBs1-yrRoWH",
      "execution_count": 73,
      "outputs": []
    },
    {
      "cell_type": "code",
      "source": [
        "print(table)"
      ],
      "metadata": {
        "colab": {
          "base_uri": "https://localhost:8080/"
        },
        "id": "NJj1MZJB22Ba",
        "outputId": "3fbc9be6-be61-4edc-fa78-09562c44ba2b"
      },
      "id": "NJj1MZJB22Ba",
      "execution_count": 74,
      "outputs": [
        {
          "output_type": "stream",
          "name": "stdout",
          "text": [
            "+------------+----------------+---------------+--------------------+---------------+-------------------+\n",
            "| Optimizer  | Train Accuracy | Test Accuracy | F1 score train     | F1 score test | Time Taken        |\n",
            "+------------+----------------+---------------+--------------------+---------------+-------------------+\n",
            "| Mini-Batch | 0.996          | 0.978         | 0.9960166666666667 | 0.9783        | 2.381263307730357 |\n",
            "| Stochastic | 0.972          | 0.956         | 0.9723             | 0.9555        | 68.85275229215623 |\n",
            "+------------+----------------+---------------+--------------------+---------------+-------------------+\n"
          ]
        }
      ]
    },
    {
      "cell_type": "markdown",
      "source": [
        "Using a stochastic dataloader for training can be a time-consuming process due to the batch_size being set to 1.Mini Batch is performing better than stochastic for accuracy and F1 score."
      ],
      "metadata": {
        "id": "LklkR3HHk1kw"
      },
      "id": "LklkR3HHk1kw"
    },
    {
      "cell_type": "markdown",
      "id": "d6f04f42",
      "metadata": {
        "jp-MarkdownHeadingCollapsed": true,
        "tags": [],
        "id": "d6f04f42"
      },
      "source": [
        "### And most importantly!!! What did we learn?\n",
        "Discuss any and all learnings here. The discussions must be all-encompassing so that we know what did you learn. \n",
        "\n",
        "Please do not copy from your friend or copy-paste from the internet. We can see repetitions during evaluations."
      ]
    },
    {
      "cell_type": "code",
      "execution_count": 75,
      "id": "1717f8ce",
      "metadata": {
        "id": "1717f8ce"
      },
      "outputs": [],
      "source": [
        "# text here"
      ]
    },
    {
      "cell_type": "markdown",
      "source": [
        "Due to the dataset size of 70k (60k trainset + 10k testset), it is difficult for me to find the distinctions between various optimizers. Although I have observed some variations in performance using the Adam optimizer.\n",
        "In case of LR schedulers differences are minute,but I have chosen ExponentialLR for step-8 .We can't use batch normalization on trainloader_stochastic because of batch size is 1."
      ],
      "metadata": {
        "id": "K4Oe89I6kayA"
      },
      "id": "K4Oe89I6kayA"
    }
  ],
  "metadata": {
    "kernelspec": {
      "display_name": "env",
      "language": "python",
      "name": "env"
    },
    "language_info": {
      "codemirror_mode": {
        "name": "ipython",
        "version": 3
      },
      "file_extension": ".py",
      "mimetype": "text/x-python",
      "name": "python",
      "nbconvert_exporter": "python",
      "pygments_lexer": "ipython3",
      "version": "3.8.10"
    },
    "colab": {
      "provenance": []
    },
    "widgets": {
      "application/vnd.jupyter.widget-state+json": {
        "13f9719a0cb5485f97b7884a64d0a03e": {
          "model_module": "@jupyter-widgets/controls",
          "model_name": "HBoxModel",
          "model_module_version": "1.5.0",
          "state": {
            "_dom_classes": [],
            "_model_module": "@jupyter-widgets/controls",
            "_model_module_version": "1.5.0",
            "_model_name": "HBoxModel",
            "_view_count": null,
            "_view_module": "@jupyter-widgets/controls",
            "_view_module_version": "1.5.0",
            "_view_name": "HBoxView",
            "box_style": "",
            "children": [
              "IPY_MODEL_8280530fa2244fa697f478f9423c042f",
              "IPY_MODEL_5b189cef9e0d4e5e8e54dc4a0d64a454",
              "IPY_MODEL_b1ed8f583f994a1cb8376735dcd2d8a8"
            ],
            "layout": "IPY_MODEL_1306f57a4b5545af96448da007347e35"
          }
        },
        "8280530fa2244fa697f478f9423c042f": {
          "model_module": "@jupyter-widgets/controls",
          "model_name": "HTMLModel",
          "model_module_version": "1.5.0",
          "state": {
            "_dom_classes": [],
            "_model_module": "@jupyter-widgets/controls",
            "_model_module_version": "1.5.0",
            "_model_name": "HTMLModel",
            "_view_count": null,
            "_view_module": "@jupyter-widgets/controls",
            "_view_module_version": "1.5.0",
            "_view_name": "HTMLView",
            "description": "",
            "description_tooltip": null,
            "layout": "IPY_MODEL_d9802a71085b463c811ecdd1fbf399c5",
            "placeholder": "​",
            "style": "IPY_MODEL_becafdb5bf604075bca3fe2037f219e5",
            "value": "100%"
          }
        },
        "5b189cef9e0d4e5e8e54dc4a0d64a454": {
          "model_module": "@jupyter-widgets/controls",
          "model_name": "FloatProgressModel",
          "model_module_version": "1.5.0",
          "state": {
            "_dom_classes": [],
            "_model_module": "@jupyter-widgets/controls",
            "_model_module_version": "1.5.0",
            "_model_name": "FloatProgressModel",
            "_view_count": null,
            "_view_module": "@jupyter-widgets/controls",
            "_view_module_version": "1.5.0",
            "_view_name": "ProgressView",
            "bar_style": "success",
            "description": "",
            "description_tooltip": null,
            "layout": "IPY_MODEL_e569417371394da78b629f1417827205",
            "max": 9912422,
            "min": 0,
            "orientation": "horizontal",
            "style": "IPY_MODEL_7319374ca2ad474eaf45539d08734274",
            "value": 9912422
          }
        },
        "b1ed8f583f994a1cb8376735dcd2d8a8": {
          "model_module": "@jupyter-widgets/controls",
          "model_name": "HTMLModel",
          "model_module_version": "1.5.0",
          "state": {
            "_dom_classes": [],
            "_model_module": "@jupyter-widgets/controls",
            "_model_module_version": "1.5.0",
            "_model_name": "HTMLModel",
            "_view_count": null,
            "_view_module": "@jupyter-widgets/controls",
            "_view_module_version": "1.5.0",
            "_view_name": "HTMLView",
            "description": "",
            "description_tooltip": null,
            "layout": "IPY_MODEL_8f5c8e4eae0d4afe9f1fa7a4de41f1f9",
            "placeholder": "​",
            "style": "IPY_MODEL_349c5c161a764bed975e7b994346c329",
            "value": " 9912422/9912422 [00:00&lt;00:00, 23153902.02it/s]"
          }
        },
        "1306f57a4b5545af96448da007347e35": {
          "model_module": "@jupyter-widgets/base",
          "model_name": "LayoutModel",
          "model_module_version": "1.2.0",
          "state": {
            "_model_module": "@jupyter-widgets/base",
            "_model_module_version": "1.2.0",
            "_model_name": "LayoutModel",
            "_view_count": null,
            "_view_module": "@jupyter-widgets/base",
            "_view_module_version": "1.2.0",
            "_view_name": "LayoutView",
            "align_content": null,
            "align_items": null,
            "align_self": null,
            "border": null,
            "bottom": null,
            "display": null,
            "flex": null,
            "flex_flow": null,
            "grid_area": null,
            "grid_auto_columns": null,
            "grid_auto_flow": null,
            "grid_auto_rows": null,
            "grid_column": null,
            "grid_gap": null,
            "grid_row": null,
            "grid_template_areas": null,
            "grid_template_columns": null,
            "grid_template_rows": null,
            "height": null,
            "justify_content": null,
            "justify_items": null,
            "left": null,
            "margin": null,
            "max_height": null,
            "max_width": null,
            "min_height": null,
            "min_width": null,
            "object_fit": null,
            "object_position": null,
            "order": null,
            "overflow": null,
            "overflow_x": null,
            "overflow_y": null,
            "padding": null,
            "right": null,
            "top": null,
            "visibility": null,
            "width": null
          }
        },
        "d9802a71085b463c811ecdd1fbf399c5": {
          "model_module": "@jupyter-widgets/base",
          "model_name": "LayoutModel",
          "model_module_version": "1.2.0",
          "state": {
            "_model_module": "@jupyter-widgets/base",
            "_model_module_version": "1.2.0",
            "_model_name": "LayoutModel",
            "_view_count": null,
            "_view_module": "@jupyter-widgets/base",
            "_view_module_version": "1.2.0",
            "_view_name": "LayoutView",
            "align_content": null,
            "align_items": null,
            "align_self": null,
            "border": null,
            "bottom": null,
            "display": null,
            "flex": null,
            "flex_flow": null,
            "grid_area": null,
            "grid_auto_columns": null,
            "grid_auto_flow": null,
            "grid_auto_rows": null,
            "grid_column": null,
            "grid_gap": null,
            "grid_row": null,
            "grid_template_areas": null,
            "grid_template_columns": null,
            "grid_template_rows": null,
            "height": null,
            "justify_content": null,
            "justify_items": null,
            "left": null,
            "margin": null,
            "max_height": null,
            "max_width": null,
            "min_height": null,
            "min_width": null,
            "object_fit": null,
            "object_position": null,
            "order": null,
            "overflow": null,
            "overflow_x": null,
            "overflow_y": null,
            "padding": null,
            "right": null,
            "top": null,
            "visibility": null,
            "width": null
          }
        },
        "becafdb5bf604075bca3fe2037f219e5": {
          "model_module": "@jupyter-widgets/controls",
          "model_name": "DescriptionStyleModel",
          "model_module_version": "1.5.0",
          "state": {
            "_model_module": "@jupyter-widgets/controls",
            "_model_module_version": "1.5.0",
            "_model_name": "DescriptionStyleModel",
            "_view_count": null,
            "_view_module": "@jupyter-widgets/base",
            "_view_module_version": "1.2.0",
            "_view_name": "StyleView",
            "description_width": ""
          }
        },
        "e569417371394da78b629f1417827205": {
          "model_module": "@jupyter-widgets/base",
          "model_name": "LayoutModel",
          "model_module_version": "1.2.0",
          "state": {
            "_model_module": "@jupyter-widgets/base",
            "_model_module_version": "1.2.0",
            "_model_name": "LayoutModel",
            "_view_count": null,
            "_view_module": "@jupyter-widgets/base",
            "_view_module_version": "1.2.0",
            "_view_name": "LayoutView",
            "align_content": null,
            "align_items": null,
            "align_self": null,
            "border": null,
            "bottom": null,
            "display": null,
            "flex": null,
            "flex_flow": null,
            "grid_area": null,
            "grid_auto_columns": null,
            "grid_auto_flow": null,
            "grid_auto_rows": null,
            "grid_column": null,
            "grid_gap": null,
            "grid_row": null,
            "grid_template_areas": null,
            "grid_template_columns": null,
            "grid_template_rows": null,
            "height": null,
            "justify_content": null,
            "justify_items": null,
            "left": null,
            "margin": null,
            "max_height": null,
            "max_width": null,
            "min_height": null,
            "min_width": null,
            "object_fit": null,
            "object_position": null,
            "order": null,
            "overflow": null,
            "overflow_x": null,
            "overflow_y": null,
            "padding": null,
            "right": null,
            "top": null,
            "visibility": null,
            "width": null
          }
        },
        "7319374ca2ad474eaf45539d08734274": {
          "model_module": "@jupyter-widgets/controls",
          "model_name": "ProgressStyleModel",
          "model_module_version": "1.5.0",
          "state": {
            "_model_module": "@jupyter-widgets/controls",
            "_model_module_version": "1.5.0",
            "_model_name": "ProgressStyleModel",
            "_view_count": null,
            "_view_module": "@jupyter-widgets/base",
            "_view_module_version": "1.2.0",
            "_view_name": "StyleView",
            "bar_color": null,
            "description_width": ""
          }
        },
        "8f5c8e4eae0d4afe9f1fa7a4de41f1f9": {
          "model_module": "@jupyter-widgets/base",
          "model_name": "LayoutModel",
          "model_module_version": "1.2.0",
          "state": {
            "_model_module": "@jupyter-widgets/base",
            "_model_module_version": "1.2.0",
            "_model_name": "LayoutModel",
            "_view_count": null,
            "_view_module": "@jupyter-widgets/base",
            "_view_module_version": "1.2.0",
            "_view_name": "LayoutView",
            "align_content": null,
            "align_items": null,
            "align_self": null,
            "border": null,
            "bottom": null,
            "display": null,
            "flex": null,
            "flex_flow": null,
            "grid_area": null,
            "grid_auto_columns": null,
            "grid_auto_flow": null,
            "grid_auto_rows": null,
            "grid_column": null,
            "grid_gap": null,
            "grid_row": null,
            "grid_template_areas": null,
            "grid_template_columns": null,
            "grid_template_rows": null,
            "height": null,
            "justify_content": null,
            "justify_items": null,
            "left": null,
            "margin": null,
            "max_height": null,
            "max_width": null,
            "min_height": null,
            "min_width": null,
            "object_fit": null,
            "object_position": null,
            "order": null,
            "overflow": null,
            "overflow_x": null,
            "overflow_y": null,
            "padding": null,
            "right": null,
            "top": null,
            "visibility": null,
            "width": null
          }
        },
        "349c5c161a764bed975e7b994346c329": {
          "model_module": "@jupyter-widgets/controls",
          "model_name": "DescriptionStyleModel",
          "model_module_version": "1.5.0",
          "state": {
            "_model_module": "@jupyter-widgets/controls",
            "_model_module_version": "1.5.0",
            "_model_name": "DescriptionStyleModel",
            "_view_count": null,
            "_view_module": "@jupyter-widgets/base",
            "_view_module_version": "1.2.0",
            "_view_name": "StyleView",
            "description_width": ""
          }
        },
        "2540cc23729a4bc59599d4b62c2a6270": {
          "model_module": "@jupyter-widgets/controls",
          "model_name": "HBoxModel",
          "model_module_version": "1.5.0",
          "state": {
            "_dom_classes": [],
            "_model_module": "@jupyter-widgets/controls",
            "_model_module_version": "1.5.0",
            "_model_name": "HBoxModel",
            "_view_count": null,
            "_view_module": "@jupyter-widgets/controls",
            "_view_module_version": "1.5.0",
            "_view_name": "HBoxView",
            "box_style": "",
            "children": [
              "IPY_MODEL_cd79bb562cd24ed09a16ac0db9e7910c",
              "IPY_MODEL_1f52bfbd95054a0e8e5a6a7f4b11e0fc",
              "IPY_MODEL_297d27ce70224a518e8e9ce528478caa"
            ],
            "layout": "IPY_MODEL_dd6bd3c05c4445c2971a5496ba09b07d"
          }
        },
        "cd79bb562cd24ed09a16ac0db9e7910c": {
          "model_module": "@jupyter-widgets/controls",
          "model_name": "HTMLModel",
          "model_module_version": "1.5.0",
          "state": {
            "_dom_classes": [],
            "_model_module": "@jupyter-widgets/controls",
            "_model_module_version": "1.5.0",
            "_model_name": "HTMLModel",
            "_view_count": null,
            "_view_module": "@jupyter-widgets/controls",
            "_view_module_version": "1.5.0",
            "_view_name": "HTMLView",
            "description": "",
            "description_tooltip": null,
            "layout": "IPY_MODEL_ef409326a06843e1ab651d459e592584",
            "placeholder": "​",
            "style": "IPY_MODEL_10f4884a62a4429d907df6fe84fc40f6",
            "value": "100%"
          }
        },
        "1f52bfbd95054a0e8e5a6a7f4b11e0fc": {
          "model_module": "@jupyter-widgets/controls",
          "model_name": "FloatProgressModel",
          "model_module_version": "1.5.0",
          "state": {
            "_dom_classes": [],
            "_model_module": "@jupyter-widgets/controls",
            "_model_module_version": "1.5.0",
            "_model_name": "FloatProgressModel",
            "_view_count": null,
            "_view_module": "@jupyter-widgets/controls",
            "_view_module_version": "1.5.0",
            "_view_name": "ProgressView",
            "bar_style": "success",
            "description": "",
            "description_tooltip": null,
            "layout": "IPY_MODEL_cd43106053ef4d75aebde101e6ee10fe",
            "max": 28881,
            "min": 0,
            "orientation": "horizontal",
            "style": "IPY_MODEL_3030db637d804af6a8aaf96d2f12c64e",
            "value": 28881
          }
        },
        "297d27ce70224a518e8e9ce528478caa": {
          "model_module": "@jupyter-widgets/controls",
          "model_name": "HTMLModel",
          "model_module_version": "1.5.0",
          "state": {
            "_dom_classes": [],
            "_model_module": "@jupyter-widgets/controls",
            "_model_module_version": "1.5.0",
            "_model_name": "HTMLModel",
            "_view_count": null,
            "_view_module": "@jupyter-widgets/controls",
            "_view_module_version": "1.5.0",
            "_view_name": "HTMLView",
            "description": "",
            "description_tooltip": null,
            "layout": "IPY_MODEL_bf0891c21bc544369d4c62a7a6996a27",
            "placeholder": "​",
            "style": "IPY_MODEL_44babd87308a46cead2c75fa4c3b479d",
            "value": " 28881/28881 [00:00&lt;00:00, 1022544.16it/s]"
          }
        },
        "dd6bd3c05c4445c2971a5496ba09b07d": {
          "model_module": "@jupyter-widgets/base",
          "model_name": "LayoutModel",
          "model_module_version": "1.2.0",
          "state": {
            "_model_module": "@jupyter-widgets/base",
            "_model_module_version": "1.2.0",
            "_model_name": "LayoutModel",
            "_view_count": null,
            "_view_module": "@jupyter-widgets/base",
            "_view_module_version": "1.2.0",
            "_view_name": "LayoutView",
            "align_content": null,
            "align_items": null,
            "align_self": null,
            "border": null,
            "bottom": null,
            "display": null,
            "flex": null,
            "flex_flow": null,
            "grid_area": null,
            "grid_auto_columns": null,
            "grid_auto_flow": null,
            "grid_auto_rows": null,
            "grid_column": null,
            "grid_gap": null,
            "grid_row": null,
            "grid_template_areas": null,
            "grid_template_columns": null,
            "grid_template_rows": null,
            "height": null,
            "justify_content": null,
            "justify_items": null,
            "left": null,
            "margin": null,
            "max_height": null,
            "max_width": null,
            "min_height": null,
            "min_width": null,
            "object_fit": null,
            "object_position": null,
            "order": null,
            "overflow": null,
            "overflow_x": null,
            "overflow_y": null,
            "padding": null,
            "right": null,
            "top": null,
            "visibility": null,
            "width": null
          }
        },
        "ef409326a06843e1ab651d459e592584": {
          "model_module": "@jupyter-widgets/base",
          "model_name": "LayoutModel",
          "model_module_version": "1.2.0",
          "state": {
            "_model_module": "@jupyter-widgets/base",
            "_model_module_version": "1.2.0",
            "_model_name": "LayoutModel",
            "_view_count": null,
            "_view_module": "@jupyter-widgets/base",
            "_view_module_version": "1.2.0",
            "_view_name": "LayoutView",
            "align_content": null,
            "align_items": null,
            "align_self": null,
            "border": null,
            "bottom": null,
            "display": null,
            "flex": null,
            "flex_flow": null,
            "grid_area": null,
            "grid_auto_columns": null,
            "grid_auto_flow": null,
            "grid_auto_rows": null,
            "grid_column": null,
            "grid_gap": null,
            "grid_row": null,
            "grid_template_areas": null,
            "grid_template_columns": null,
            "grid_template_rows": null,
            "height": null,
            "justify_content": null,
            "justify_items": null,
            "left": null,
            "margin": null,
            "max_height": null,
            "max_width": null,
            "min_height": null,
            "min_width": null,
            "object_fit": null,
            "object_position": null,
            "order": null,
            "overflow": null,
            "overflow_x": null,
            "overflow_y": null,
            "padding": null,
            "right": null,
            "top": null,
            "visibility": null,
            "width": null
          }
        },
        "10f4884a62a4429d907df6fe84fc40f6": {
          "model_module": "@jupyter-widgets/controls",
          "model_name": "DescriptionStyleModel",
          "model_module_version": "1.5.0",
          "state": {
            "_model_module": "@jupyter-widgets/controls",
            "_model_module_version": "1.5.0",
            "_model_name": "DescriptionStyleModel",
            "_view_count": null,
            "_view_module": "@jupyter-widgets/base",
            "_view_module_version": "1.2.0",
            "_view_name": "StyleView",
            "description_width": ""
          }
        },
        "cd43106053ef4d75aebde101e6ee10fe": {
          "model_module": "@jupyter-widgets/base",
          "model_name": "LayoutModel",
          "model_module_version": "1.2.0",
          "state": {
            "_model_module": "@jupyter-widgets/base",
            "_model_module_version": "1.2.0",
            "_model_name": "LayoutModel",
            "_view_count": null,
            "_view_module": "@jupyter-widgets/base",
            "_view_module_version": "1.2.0",
            "_view_name": "LayoutView",
            "align_content": null,
            "align_items": null,
            "align_self": null,
            "border": null,
            "bottom": null,
            "display": null,
            "flex": null,
            "flex_flow": null,
            "grid_area": null,
            "grid_auto_columns": null,
            "grid_auto_flow": null,
            "grid_auto_rows": null,
            "grid_column": null,
            "grid_gap": null,
            "grid_row": null,
            "grid_template_areas": null,
            "grid_template_columns": null,
            "grid_template_rows": null,
            "height": null,
            "justify_content": null,
            "justify_items": null,
            "left": null,
            "margin": null,
            "max_height": null,
            "max_width": null,
            "min_height": null,
            "min_width": null,
            "object_fit": null,
            "object_position": null,
            "order": null,
            "overflow": null,
            "overflow_x": null,
            "overflow_y": null,
            "padding": null,
            "right": null,
            "top": null,
            "visibility": null,
            "width": null
          }
        },
        "3030db637d804af6a8aaf96d2f12c64e": {
          "model_module": "@jupyter-widgets/controls",
          "model_name": "ProgressStyleModel",
          "model_module_version": "1.5.0",
          "state": {
            "_model_module": "@jupyter-widgets/controls",
            "_model_module_version": "1.5.0",
            "_model_name": "ProgressStyleModel",
            "_view_count": null,
            "_view_module": "@jupyter-widgets/base",
            "_view_module_version": "1.2.0",
            "_view_name": "StyleView",
            "bar_color": null,
            "description_width": ""
          }
        },
        "bf0891c21bc544369d4c62a7a6996a27": {
          "model_module": "@jupyter-widgets/base",
          "model_name": "LayoutModel",
          "model_module_version": "1.2.0",
          "state": {
            "_model_module": "@jupyter-widgets/base",
            "_model_module_version": "1.2.0",
            "_model_name": "LayoutModel",
            "_view_count": null,
            "_view_module": "@jupyter-widgets/base",
            "_view_module_version": "1.2.0",
            "_view_name": "LayoutView",
            "align_content": null,
            "align_items": null,
            "align_self": null,
            "border": null,
            "bottom": null,
            "display": null,
            "flex": null,
            "flex_flow": null,
            "grid_area": null,
            "grid_auto_columns": null,
            "grid_auto_flow": null,
            "grid_auto_rows": null,
            "grid_column": null,
            "grid_gap": null,
            "grid_row": null,
            "grid_template_areas": null,
            "grid_template_columns": null,
            "grid_template_rows": null,
            "height": null,
            "justify_content": null,
            "justify_items": null,
            "left": null,
            "margin": null,
            "max_height": null,
            "max_width": null,
            "min_height": null,
            "min_width": null,
            "object_fit": null,
            "object_position": null,
            "order": null,
            "overflow": null,
            "overflow_x": null,
            "overflow_y": null,
            "padding": null,
            "right": null,
            "top": null,
            "visibility": null,
            "width": null
          }
        },
        "44babd87308a46cead2c75fa4c3b479d": {
          "model_module": "@jupyter-widgets/controls",
          "model_name": "DescriptionStyleModel",
          "model_module_version": "1.5.0",
          "state": {
            "_model_module": "@jupyter-widgets/controls",
            "_model_module_version": "1.5.0",
            "_model_name": "DescriptionStyleModel",
            "_view_count": null,
            "_view_module": "@jupyter-widgets/base",
            "_view_module_version": "1.2.0",
            "_view_name": "StyleView",
            "description_width": ""
          }
        },
        "5ddf643bec864439b0099543ce045e8c": {
          "model_module": "@jupyter-widgets/controls",
          "model_name": "HBoxModel",
          "model_module_version": "1.5.0",
          "state": {
            "_dom_classes": [],
            "_model_module": "@jupyter-widgets/controls",
            "_model_module_version": "1.5.0",
            "_model_name": "HBoxModel",
            "_view_count": null,
            "_view_module": "@jupyter-widgets/controls",
            "_view_module_version": "1.5.0",
            "_view_name": "HBoxView",
            "box_style": "",
            "children": [
              "IPY_MODEL_073dccbec9074e9ebb897158a0bb5567",
              "IPY_MODEL_3087e50b7cdb4792967a3b0d624f81f4",
              "IPY_MODEL_c3fa1fad9f5e405889cf8f68de6deb31"
            ],
            "layout": "IPY_MODEL_d8ba69bb3f1f449c86b05e4e74cb5f4d"
          }
        },
        "073dccbec9074e9ebb897158a0bb5567": {
          "model_module": "@jupyter-widgets/controls",
          "model_name": "HTMLModel",
          "model_module_version": "1.5.0",
          "state": {
            "_dom_classes": [],
            "_model_module": "@jupyter-widgets/controls",
            "_model_module_version": "1.5.0",
            "_model_name": "HTMLModel",
            "_view_count": null,
            "_view_module": "@jupyter-widgets/controls",
            "_view_module_version": "1.5.0",
            "_view_name": "HTMLView",
            "description": "",
            "description_tooltip": null,
            "layout": "IPY_MODEL_2a6488573e254e1daff63565b7ba2f55",
            "placeholder": "​",
            "style": "IPY_MODEL_cb8a7754ee144d448c9406f0c922dd84",
            "value": "100%"
          }
        },
        "3087e50b7cdb4792967a3b0d624f81f4": {
          "model_module": "@jupyter-widgets/controls",
          "model_name": "FloatProgressModel",
          "model_module_version": "1.5.0",
          "state": {
            "_dom_classes": [],
            "_model_module": "@jupyter-widgets/controls",
            "_model_module_version": "1.5.0",
            "_model_name": "FloatProgressModel",
            "_view_count": null,
            "_view_module": "@jupyter-widgets/controls",
            "_view_module_version": "1.5.0",
            "_view_name": "ProgressView",
            "bar_style": "success",
            "description": "",
            "description_tooltip": null,
            "layout": "IPY_MODEL_33995a6ec21449d4a9b9f5516cc39944",
            "max": 1648877,
            "min": 0,
            "orientation": "horizontal",
            "style": "IPY_MODEL_8d9857ea857544a1a03c495bd93c2241",
            "value": 1648877
          }
        },
        "c3fa1fad9f5e405889cf8f68de6deb31": {
          "model_module": "@jupyter-widgets/controls",
          "model_name": "HTMLModel",
          "model_module_version": "1.5.0",
          "state": {
            "_dom_classes": [],
            "_model_module": "@jupyter-widgets/controls",
            "_model_module_version": "1.5.0",
            "_model_name": "HTMLModel",
            "_view_count": null,
            "_view_module": "@jupyter-widgets/controls",
            "_view_module_version": "1.5.0",
            "_view_name": "HTMLView",
            "description": "",
            "description_tooltip": null,
            "layout": "IPY_MODEL_0e07e994e085450385558f9cfa02c341",
            "placeholder": "​",
            "style": "IPY_MODEL_76bb1316fff24c628a854daceb576014",
            "value": " 1648877/1648877 [00:00&lt;00:00, 9472781.49it/s]"
          }
        },
        "d8ba69bb3f1f449c86b05e4e74cb5f4d": {
          "model_module": "@jupyter-widgets/base",
          "model_name": "LayoutModel",
          "model_module_version": "1.2.0",
          "state": {
            "_model_module": "@jupyter-widgets/base",
            "_model_module_version": "1.2.0",
            "_model_name": "LayoutModel",
            "_view_count": null,
            "_view_module": "@jupyter-widgets/base",
            "_view_module_version": "1.2.0",
            "_view_name": "LayoutView",
            "align_content": null,
            "align_items": null,
            "align_self": null,
            "border": null,
            "bottom": null,
            "display": null,
            "flex": null,
            "flex_flow": null,
            "grid_area": null,
            "grid_auto_columns": null,
            "grid_auto_flow": null,
            "grid_auto_rows": null,
            "grid_column": null,
            "grid_gap": null,
            "grid_row": null,
            "grid_template_areas": null,
            "grid_template_columns": null,
            "grid_template_rows": null,
            "height": null,
            "justify_content": null,
            "justify_items": null,
            "left": null,
            "margin": null,
            "max_height": null,
            "max_width": null,
            "min_height": null,
            "min_width": null,
            "object_fit": null,
            "object_position": null,
            "order": null,
            "overflow": null,
            "overflow_x": null,
            "overflow_y": null,
            "padding": null,
            "right": null,
            "top": null,
            "visibility": null,
            "width": null
          }
        },
        "2a6488573e254e1daff63565b7ba2f55": {
          "model_module": "@jupyter-widgets/base",
          "model_name": "LayoutModel",
          "model_module_version": "1.2.0",
          "state": {
            "_model_module": "@jupyter-widgets/base",
            "_model_module_version": "1.2.0",
            "_model_name": "LayoutModel",
            "_view_count": null,
            "_view_module": "@jupyter-widgets/base",
            "_view_module_version": "1.2.0",
            "_view_name": "LayoutView",
            "align_content": null,
            "align_items": null,
            "align_self": null,
            "border": null,
            "bottom": null,
            "display": null,
            "flex": null,
            "flex_flow": null,
            "grid_area": null,
            "grid_auto_columns": null,
            "grid_auto_flow": null,
            "grid_auto_rows": null,
            "grid_column": null,
            "grid_gap": null,
            "grid_row": null,
            "grid_template_areas": null,
            "grid_template_columns": null,
            "grid_template_rows": null,
            "height": null,
            "justify_content": null,
            "justify_items": null,
            "left": null,
            "margin": null,
            "max_height": null,
            "max_width": null,
            "min_height": null,
            "min_width": null,
            "object_fit": null,
            "object_position": null,
            "order": null,
            "overflow": null,
            "overflow_x": null,
            "overflow_y": null,
            "padding": null,
            "right": null,
            "top": null,
            "visibility": null,
            "width": null
          }
        },
        "cb8a7754ee144d448c9406f0c922dd84": {
          "model_module": "@jupyter-widgets/controls",
          "model_name": "DescriptionStyleModel",
          "model_module_version": "1.5.0",
          "state": {
            "_model_module": "@jupyter-widgets/controls",
            "_model_module_version": "1.5.0",
            "_model_name": "DescriptionStyleModel",
            "_view_count": null,
            "_view_module": "@jupyter-widgets/base",
            "_view_module_version": "1.2.0",
            "_view_name": "StyleView",
            "description_width": ""
          }
        },
        "33995a6ec21449d4a9b9f5516cc39944": {
          "model_module": "@jupyter-widgets/base",
          "model_name": "LayoutModel",
          "model_module_version": "1.2.0",
          "state": {
            "_model_module": "@jupyter-widgets/base",
            "_model_module_version": "1.2.0",
            "_model_name": "LayoutModel",
            "_view_count": null,
            "_view_module": "@jupyter-widgets/base",
            "_view_module_version": "1.2.0",
            "_view_name": "LayoutView",
            "align_content": null,
            "align_items": null,
            "align_self": null,
            "border": null,
            "bottom": null,
            "display": null,
            "flex": null,
            "flex_flow": null,
            "grid_area": null,
            "grid_auto_columns": null,
            "grid_auto_flow": null,
            "grid_auto_rows": null,
            "grid_column": null,
            "grid_gap": null,
            "grid_row": null,
            "grid_template_areas": null,
            "grid_template_columns": null,
            "grid_template_rows": null,
            "height": null,
            "justify_content": null,
            "justify_items": null,
            "left": null,
            "margin": null,
            "max_height": null,
            "max_width": null,
            "min_height": null,
            "min_width": null,
            "object_fit": null,
            "object_position": null,
            "order": null,
            "overflow": null,
            "overflow_x": null,
            "overflow_y": null,
            "padding": null,
            "right": null,
            "top": null,
            "visibility": null,
            "width": null
          }
        },
        "8d9857ea857544a1a03c495bd93c2241": {
          "model_module": "@jupyter-widgets/controls",
          "model_name": "ProgressStyleModel",
          "model_module_version": "1.5.0",
          "state": {
            "_model_module": "@jupyter-widgets/controls",
            "_model_module_version": "1.5.0",
            "_model_name": "ProgressStyleModel",
            "_view_count": null,
            "_view_module": "@jupyter-widgets/base",
            "_view_module_version": "1.2.0",
            "_view_name": "StyleView",
            "bar_color": null,
            "description_width": ""
          }
        },
        "0e07e994e085450385558f9cfa02c341": {
          "model_module": "@jupyter-widgets/base",
          "model_name": "LayoutModel",
          "model_module_version": "1.2.0",
          "state": {
            "_model_module": "@jupyter-widgets/base",
            "_model_module_version": "1.2.0",
            "_model_name": "LayoutModel",
            "_view_count": null,
            "_view_module": "@jupyter-widgets/base",
            "_view_module_version": "1.2.0",
            "_view_name": "LayoutView",
            "align_content": null,
            "align_items": null,
            "align_self": null,
            "border": null,
            "bottom": null,
            "display": null,
            "flex": null,
            "flex_flow": null,
            "grid_area": null,
            "grid_auto_columns": null,
            "grid_auto_flow": null,
            "grid_auto_rows": null,
            "grid_column": null,
            "grid_gap": null,
            "grid_row": null,
            "grid_template_areas": null,
            "grid_template_columns": null,
            "grid_template_rows": null,
            "height": null,
            "justify_content": null,
            "justify_items": null,
            "left": null,
            "margin": null,
            "max_height": null,
            "max_width": null,
            "min_height": null,
            "min_width": null,
            "object_fit": null,
            "object_position": null,
            "order": null,
            "overflow": null,
            "overflow_x": null,
            "overflow_y": null,
            "padding": null,
            "right": null,
            "top": null,
            "visibility": null,
            "width": null
          }
        },
        "76bb1316fff24c628a854daceb576014": {
          "model_module": "@jupyter-widgets/controls",
          "model_name": "DescriptionStyleModel",
          "model_module_version": "1.5.0",
          "state": {
            "_model_module": "@jupyter-widgets/controls",
            "_model_module_version": "1.5.0",
            "_model_name": "DescriptionStyleModel",
            "_view_count": null,
            "_view_module": "@jupyter-widgets/base",
            "_view_module_version": "1.2.0",
            "_view_name": "StyleView",
            "description_width": ""
          }
        },
        "b2d0c5e089a24c28a6dac143f99c02e7": {
          "model_module": "@jupyter-widgets/controls",
          "model_name": "HBoxModel",
          "model_module_version": "1.5.0",
          "state": {
            "_dom_classes": [],
            "_model_module": "@jupyter-widgets/controls",
            "_model_module_version": "1.5.0",
            "_model_name": "HBoxModel",
            "_view_count": null,
            "_view_module": "@jupyter-widgets/controls",
            "_view_module_version": "1.5.0",
            "_view_name": "HBoxView",
            "box_style": "",
            "children": [
              "IPY_MODEL_96d278aed97f4c2f86e9d8f88538f76e",
              "IPY_MODEL_a6dee171d43d4dc1b5cabb8e8846d82a",
              "IPY_MODEL_ef84d22d0422458d962faa04eca44a10"
            ],
            "layout": "IPY_MODEL_5ee55846640a4fafb4c6b4992b52de7a"
          }
        },
        "96d278aed97f4c2f86e9d8f88538f76e": {
          "model_module": "@jupyter-widgets/controls",
          "model_name": "HTMLModel",
          "model_module_version": "1.5.0",
          "state": {
            "_dom_classes": [],
            "_model_module": "@jupyter-widgets/controls",
            "_model_module_version": "1.5.0",
            "_model_name": "HTMLModel",
            "_view_count": null,
            "_view_module": "@jupyter-widgets/controls",
            "_view_module_version": "1.5.0",
            "_view_name": "HTMLView",
            "description": "",
            "description_tooltip": null,
            "layout": "IPY_MODEL_acb32408963c4e4fb785245008527ed7",
            "placeholder": "​",
            "style": "IPY_MODEL_eca0ad4600b0459ba38e9d5949a97603",
            "value": "100%"
          }
        },
        "a6dee171d43d4dc1b5cabb8e8846d82a": {
          "model_module": "@jupyter-widgets/controls",
          "model_name": "FloatProgressModel",
          "model_module_version": "1.5.0",
          "state": {
            "_dom_classes": [],
            "_model_module": "@jupyter-widgets/controls",
            "_model_module_version": "1.5.0",
            "_model_name": "FloatProgressModel",
            "_view_count": null,
            "_view_module": "@jupyter-widgets/controls",
            "_view_module_version": "1.5.0",
            "_view_name": "ProgressView",
            "bar_style": "success",
            "description": "",
            "description_tooltip": null,
            "layout": "IPY_MODEL_0651e0aad7bd47afb5ec452d234c2dcd",
            "max": 4542,
            "min": 0,
            "orientation": "horizontal",
            "style": "IPY_MODEL_5b9f734cde19411ba318ff63387bb6d8",
            "value": 4542
          }
        },
        "ef84d22d0422458d962faa04eca44a10": {
          "model_module": "@jupyter-widgets/controls",
          "model_name": "HTMLModel",
          "model_module_version": "1.5.0",
          "state": {
            "_dom_classes": [],
            "_model_module": "@jupyter-widgets/controls",
            "_model_module_version": "1.5.0",
            "_model_name": "HTMLModel",
            "_view_count": null,
            "_view_module": "@jupyter-widgets/controls",
            "_view_module_version": "1.5.0",
            "_view_name": "HTMLView",
            "description": "",
            "description_tooltip": null,
            "layout": "IPY_MODEL_414bf22a5fe747e286ded1515bdebf10",
            "placeholder": "​",
            "style": "IPY_MODEL_719bfaa8254d4c268925ea5b1f6d3034",
            "value": " 4542/4542 [00:00&lt;00:00, 66658.72it/s]"
          }
        },
        "5ee55846640a4fafb4c6b4992b52de7a": {
          "model_module": "@jupyter-widgets/base",
          "model_name": "LayoutModel",
          "model_module_version": "1.2.0",
          "state": {
            "_model_module": "@jupyter-widgets/base",
            "_model_module_version": "1.2.0",
            "_model_name": "LayoutModel",
            "_view_count": null,
            "_view_module": "@jupyter-widgets/base",
            "_view_module_version": "1.2.0",
            "_view_name": "LayoutView",
            "align_content": null,
            "align_items": null,
            "align_self": null,
            "border": null,
            "bottom": null,
            "display": null,
            "flex": null,
            "flex_flow": null,
            "grid_area": null,
            "grid_auto_columns": null,
            "grid_auto_flow": null,
            "grid_auto_rows": null,
            "grid_column": null,
            "grid_gap": null,
            "grid_row": null,
            "grid_template_areas": null,
            "grid_template_columns": null,
            "grid_template_rows": null,
            "height": null,
            "justify_content": null,
            "justify_items": null,
            "left": null,
            "margin": null,
            "max_height": null,
            "max_width": null,
            "min_height": null,
            "min_width": null,
            "object_fit": null,
            "object_position": null,
            "order": null,
            "overflow": null,
            "overflow_x": null,
            "overflow_y": null,
            "padding": null,
            "right": null,
            "top": null,
            "visibility": null,
            "width": null
          }
        },
        "acb32408963c4e4fb785245008527ed7": {
          "model_module": "@jupyter-widgets/base",
          "model_name": "LayoutModel",
          "model_module_version": "1.2.0",
          "state": {
            "_model_module": "@jupyter-widgets/base",
            "_model_module_version": "1.2.0",
            "_model_name": "LayoutModel",
            "_view_count": null,
            "_view_module": "@jupyter-widgets/base",
            "_view_module_version": "1.2.0",
            "_view_name": "LayoutView",
            "align_content": null,
            "align_items": null,
            "align_self": null,
            "border": null,
            "bottom": null,
            "display": null,
            "flex": null,
            "flex_flow": null,
            "grid_area": null,
            "grid_auto_columns": null,
            "grid_auto_flow": null,
            "grid_auto_rows": null,
            "grid_column": null,
            "grid_gap": null,
            "grid_row": null,
            "grid_template_areas": null,
            "grid_template_columns": null,
            "grid_template_rows": null,
            "height": null,
            "justify_content": null,
            "justify_items": null,
            "left": null,
            "margin": null,
            "max_height": null,
            "max_width": null,
            "min_height": null,
            "min_width": null,
            "object_fit": null,
            "object_position": null,
            "order": null,
            "overflow": null,
            "overflow_x": null,
            "overflow_y": null,
            "padding": null,
            "right": null,
            "top": null,
            "visibility": null,
            "width": null
          }
        },
        "eca0ad4600b0459ba38e9d5949a97603": {
          "model_module": "@jupyter-widgets/controls",
          "model_name": "DescriptionStyleModel",
          "model_module_version": "1.5.0",
          "state": {
            "_model_module": "@jupyter-widgets/controls",
            "_model_module_version": "1.5.0",
            "_model_name": "DescriptionStyleModel",
            "_view_count": null,
            "_view_module": "@jupyter-widgets/base",
            "_view_module_version": "1.2.0",
            "_view_name": "StyleView",
            "description_width": ""
          }
        },
        "0651e0aad7bd47afb5ec452d234c2dcd": {
          "model_module": "@jupyter-widgets/base",
          "model_name": "LayoutModel",
          "model_module_version": "1.2.0",
          "state": {
            "_model_module": "@jupyter-widgets/base",
            "_model_module_version": "1.2.0",
            "_model_name": "LayoutModel",
            "_view_count": null,
            "_view_module": "@jupyter-widgets/base",
            "_view_module_version": "1.2.0",
            "_view_name": "LayoutView",
            "align_content": null,
            "align_items": null,
            "align_self": null,
            "border": null,
            "bottom": null,
            "display": null,
            "flex": null,
            "flex_flow": null,
            "grid_area": null,
            "grid_auto_columns": null,
            "grid_auto_flow": null,
            "grid_auto_rows": null,
            "grid_column": null,
            "grid_gap": null,
            "grid_row": null,
            "grid_template_areas": null,
            "grid_template_columns": null,
            "grid_template_rows": null,
            "height": null,
            "justify_content": null,
            "justify_items": null,
            "left": null,
            "margin": null,
            "max_height": null,
            "max_width": null,
            "min_height": null,
            "min_width": null,
            "object_fit": null,
            "object_position": null,
            "order": null,
            "overflow": null,
            "overflow_x": null,
            "overflow_y": null,
            "padding": null,
            "right": null,
            "top": null,
            "visibility": null,
            "width": null
          }
        },
        "5b9f734cde19411ba318ff63387bb6d8": {
          "model_module": "@jupyter-widgets/controls",
          "model_name": "ProgressStyleModel",
          "model_module_version": "1.5.0",
          "state": {
            "_model_module": "@jupyter-widgets/controls",
            "_model_module_version": "1.5.0",
            "_model_name": "ProgressStyleModel",
            "_view_count": null,
            "_view_module": "@jupyter-widgets/base",
            "_view_module_version": "1.2.0",
            "_view_name": "StyleView",
            "bar_color": null,
            "description_width": ""
          }
        },
        "414bf22a5fe747e286ded1515bdebf10": {
          "model_module": "@jupyter-widgets/base",
          "model_name": "LayoutModel",
          "model_module_version": "1.2.0",
          "state": {
            "_model_module": "@jupyter-widgets/base",
            "_model_module_version": "1.2.0",
            "_model_name": "LayoutModel",
            "_view_count": null,
            "_view_module": "@jupyter-widgets/base",
            "_view_module_version": "1.2.0",
            "_view_name": "LayoutView",
            "align_content": null,
            "align_items": null,
            "align_self": null,
            "border": null,
            "bottom": null,
            "display": null,
            "flex": null,
            "flex_flow": null,
            "grid_area": null,
            "grid_auto_columns": null,
            "grid_auto_flow": null,
            "grid_auto_rows": null,
            "grid_column": null,
            "grid_gap": null,
            "grid_row": null,
            "grid_template_areas": null,
            "grid_template_columns": null,
            "grid_template_rows": null,
            "height": null,
            "justify_content": null,
            "justify_items": null,
            "left": null,
            "margin": null,
            "max_height": null,
            "max_width": null,
            "min_height": null,
            "min_width": null,
            "object_fit": null,
            "object_position": null,
            "order": null,
            "overflow": null,
            "overflow_x": null,
            "overflow_y": null,
            "padding": null,
            "right": null,
            "top": null,
            "visibility": null,
            "width": null
          }
        },
        "719bfaa8254d4c268925ea5b1f6d3034": {
          "model_module": "@jupyter-widgets/controls",
          "model_name": "DescriptionStyleModel",
          "model_module_version": "1.5.0",
          "state": {
            "_model_module": "@jupyter-widgets/controls",
            "_model_module_version": "1.5.0",
            "_model_name": "DescriptionStyleModel",
            "_view_count": null,
            "_view_module": "@jupyter-widgets/base",
            "_view_module_version": "1.2.0",
            "_view_name": "StyleView",
            "description_width": ""
          }
        },
        "ea19415dc01947f081266d2a5b9e381f": {
          "model_module": "@jupyter-widgets/controls",
          "model_name": "HBoxModel",
          "model_module_version": "1.5.0",
          "state": {
            "_dom_classes": [],
            "_model_module": "@jupyter-widgets/controls",
            "_model_module_version": "1.5.0",
            "_model_name": "HBoxModel",
            "_view_count": null,
            "_view_module": "@jupyter-widgets/controls",
            "_view_module_version": "1.5.0",
            "_view_name": "HBoxView",
            "box_style": "",
            "children": [
              "IPY_MODEL_bf44bb19700f478d9a346db669490fe8",
              "IPY_MODEL_dc8db95e8c014ece880c01cde50f0986",
              "IPY_MODEL_458d89f46f9244fda273b319f0cc48e8"
            ],
            "layout": "IPY_MODEL_dbdf23eaa0304552bcdbc6f20a0380e4"
          }
        },
        "bf44bb19700f478d9a346db669490fe8": {
          "model_module": "@jupyter-widgets/controls",
          "model_name": "HTMLModel",
          "model_module_version": "1.5.0",
          "state": {
            "_dom_classes": [],
            "_model_module": "@jupyter-widgets/controls",
            "_model_module_version": "1.5.0",
            "_model_name": "HTMLModel",
            "_view_count": null,
            "_view_module": "@jupyter-widgets/controls",
            "_view_module_version": "1.5.0",
            "_view_name": "HTMLView",
            "description": "",
            "description_tooltip": null,
            "layout": "IPY_MODEL_1961c0661d1643aab40251dc51772ff1",
            "placeholder": "​",
            "style": "IPY_MODEL_1884773dbba5418bb7e9061a4056d33e",
            "value": "100%"
          }
        },
        "dc8db95e8c014ece880c01cde50f0986": {
          "model_module": "@jupyter-widgets/controls",
          "model_name": "FloatProgressModel",
          "model_module_version": "1.5.0",
          "state": {
            "_dom_classes": [],
            "_model_module": "@jupyter-widgets/controls",
            "_model_module_version": "1.5.0",
            "_model_name": "FloatProgressModel",
            "_view_count": null,
            "_view_module": "@jupyter-widgets/controls",
            "_view_module_version": "1.5.0",
            "_view_name": "ProgressView",
            "bar_style": "success",
            "description": "",
            "description_tooltip": null,
            "layout": "IPY_MODEL_b2ca509c1b5543edae19540c18c6d84a",
            "max": 9912422,
            "min": 0,
            "orientation": "horizontal",
            "style": "IPY_MODEL_f95a4e50ebf74f8bb76860581375e32a",
            "value": 9912422
          }
        },
        "458d89f46f9244fda273b319f0cc48e8": {
          "model_module": "@jupyter-widgets/controls",
          "model_name": "HTMLModel",
          "model_module_version": "1.5.0",
          "state": {
            "_dom_classes": [],
            "_model_module": "@jupyter-widgets/controls",
            "_model_module_version": "1.5.0",
            "_model_name": "HTMLModel",
            "_view_count": null,
            "_view_module": "@jupyter-widgets/controls",
            "_view_module_version": "1.5.0",
            "_view_name": "HTMLView",
            "description": "",
            "description_tooltip": null,
            "layout": "IPY_MODEL_723d5239b6d9475a868e15293aa9153b",
            "placeholder": "​",
            "style": "IPY_MODEL_988cca9c4b754cd7a09ca176aed134aa",
            "value": " 9912422/9912422 [00:00&lt;00:00, 55763557.58it/s]"
          }
        },
        "dbdf23eaa0304552bcdbc6f20a0380e4": {
          "model_module": "@jupyter-widgets/base",
          "model_name": "LayoutModel",
          "model_module_version": "1.2.0",
          "state": {
            "_model_module": "@jupyter-widgets/base",
            "_model_module_version": "1.2.0",
            "_model_name": "LayoutModel",
            "_view_count": null,
            "_view_module": "@jupyter-widgets/base",
            "_view_module_version": "1.2.0",
            "_view_name": "LayoutView",
            "align_content": null,
            "align_items": null,
            "align_self": null,
            "border": null,
            "bottom": null,
            "display": null,
            "flex": null,
            "flex_flow": null,
            "grid_area": null,
            "grid_auto_columns": null,
            "grid_auto_flow": null,
            "grid_auto_rows": null,
            "grid_column": null,
            "grid_gap": null,
            "grid_row": null,
            "grid_template_areas": null,
            "grid_template_columns": null,
            "grid_template_rows": null,
            "height": null,
            "justify_content": null,
            "justify_items": null,
            "left": null,
            "margin": null,
            "max_height": null,
            "max_width": null,
            "min_height": null,
            "min_width": null,
            "object_fit": null,
            "object_position": null,
            "order": null,
            "overflow": null,
            "overflow_x": null,
            "overflow_y": null,
            "padding": null,
            "right": null,
            "top": null,
            "visibility": null,
            "width": null
          }
        },
        "1961c0661d1643aab40251dc51772ff1": {
          "model_module": "@jupyter-widgets/base",
          "model_name": "LayoutModel",
          "model_module_version": "1.2.0",
          "state": {
            "_model_module": "@jupyter-widgets/base",
            "_model_module_version": "1.2.0",
            "_model_name": "LayoutModel",
            "_view_count": null,
            "_view_module": "@jupyter-widgets/base",
            "_view_module_version": "1.2.0",
            "_view_name": "LayoutView",
            "align_content": null,
            "align_items": null,
            "align_self": null,
            "border": null,
            "bottom": null,
            "display": null,
            "flex": null,
            "flex_flow": null,
            "grid_area": null,
            "grid_auto_columns": null,
            "grid_auto_flow": null,
            "grid_auto_rows": null,
            "grid_column": null,
            "grid_gap": null,
            "grid_row": null,
            "grid_template_areas": null,
            "grid_template_columns": null,
            "grid_template_rows": null,
            "height": null,
            "justify_content": null,
            "justify_items": null,
            "left": null,
            "margin": null,
            "max_height": null,
            "max_width": null,
            "min_height": null,
            "min_width": null,
            "object_fit": null,
            "object_position": null,
            "order": null,
            "overflow": null,
            "overflow_x": null,
            "overflow_y": null,
            "padding": null,
            "right": null,
            "top": null,
            "visibility": null,
            "width": null
          }
        },
        "1884773dbba5418bb7e9061a4056d33e": {
          "model_module": "@jupyter-widgets/controls",
          "model_name": "DescriptionStyleModel",
          "model_module_version": "1.5.0",
          "state": {
            "_model_module": "@jupyter-widgets/controls",
            "_model_module_version": "1.5.0",
            "_model_name": "DescriptionStyleModel",
            "_view_count": null,
            "_view_module": "@jupyter-widgets/base",
            "_view_module_version": "1.2.0",
            "_view_name": "StyleView",
            "description_width": ""
          }
        },
        "b2ca509c1b5543edae19540c18c6d84a": {
          "model_module": "@jupyter-widgets/base",
          "model_name": "LayoutModel",
          "model_module_version": "1.2.0",
          "state": {
            "_model_module": "@jupyter-widgets/base",
            "_model_module_version": "1.2.0",
            "_model_name": "LayoutModel",
            "_view_count": null,
            "_view_module": "@jupyter-widgets/base",
            "_view_module_version": "1.2.0",
            "_view_name": "LayoutView",
            "align_content": null,
            "align_items": null,
            "align_self": null,
            "border": null,
            "bottom": null,
            "display": null,
            "flex": null,
            "flex_flow": null,
            "grid_area": null,
            "grid_auto_columns": null,
            "grid_auto_flow": null,
            "grid_auto_rows": null,
            "grid_column": null,
            "grid_gap": null,
            "grid_row": null,
            "grid_template_areas": null,
            "grid_template_columns": null,
            "grid_template_rows": null,
            "height": null,
            "justify_content": null,
            "justify_items": null,
            "left": null,
            "margin": null,
            "max_height": null,
            "max_width": null,
            "min_height": null,
            "min_width": null,
            "object_fit": null,
            "object_position": null,
            "order": null,
            "overflow": null,
            "overflow_x": null,
            "overflow_y": null,
            "padding": null,
            "right": null,
            "top": null,
            "visibility": null,
            "width": null
          }
        },
        "f95a4e50ebf74f8bb76860581375e32a": {
          "model_module": "@jupyter-widgets/controls",
          "model_name": "ProgressStyleModel",
          "model_module_version": "1.5.0",
          "state": {
            "_model_module": "@jupyter-widgets/controls",
            "_model_module_version": "1.5.0",
            "_model_name": "ProgressStyleModel",
            "_view_count": null,
            "_view_module": "@jupyter-widgets/base",
            "_view_module_version": "1.2.0",
            "_view_name": "StyleView",
            "bar_color": null,
            "description_width": ""
          }
        },
        "723d5239b6d9475a868e15293aa9153b": {
          "model_module": "@jupyter-widgets/base",
          "model_name": "LayoutModel",
          "model_module_version": "1.2.0",
          "state": {
            "_model_module": "@jupyter-widgets/base",
            "_model_module_version": "1.2.0",
            "_model_name": "LayoutModel",
            "_view_count": null,
            "_view_module": "@jupyter-widgets/base",
            "_view_module_version": "1.2.0",
            "_view_name": "LayoutView",
            "align_content": null,
            "align_items": null,
            "align_self": null,
            "border": null,
            "bottom": null,
            "display": null,
            "flex": null,
            "flex_flow": null,
            "grid_area": null,
            "grid_auto_columns": null,
            "grid_auto_flow": null,
            "grid_auto_rows": null,
            "grid_column": null,
            "grid_gap": null,
            "grid_row": null,
            "grid_template_areas": null,
            "grid_template_columns": null,
            "grid_template_rows": null,
            "height": null,
            "justify_content": null,
            "justify_items": null,
            "left": null,
            "margin": null,
            "max_height": null,
            "max_width": null,
            "min_height": null,
            "min_width": null,
            "object_fit": null,
            "object_position": null,
            "order": null,
            "overflow": null,
            "overflow_x": null,
            "overflow_y": null,
            "padding": null,
            "right": null,
            "top": null,
            "visibility": null,
            "width": null
          }
        },
        "988cca9c4b754cd7a09ca176aed134aa": {
          "model_module": "@jupyter-widgets/controls",
          "model_name": "DescriptionStyleModel",
          "model_module_version": "1.5.0",
          "state": {
            "_model_module": "@jupyter-widgets/controls",
            "_model_module_version": "1.5.0",
            "_model_name": "DescriptionStyleModel",
            "_view_count": null,
            "_view_module": "@jupyter-widgets/base",
            "_view_module_version": "1.2.0",
            "_view_name": "StyleView",
            "description_width": ""
          }
        },
        "6ab64ad8e6bb4a9d8d202d1909be534d": {
          "model_module": "@jupyter-widgets/controls",
          "model_name": "HBoxModel",
          "model_module_version": "1.5.0",
          "state": {
            "_dom_classes": [],
            "_model_module": "@jupyter-widgets/controls",
            "_model_module_version": "1.5.0",
            "_model_name": "HBoxModel",
            "_view_count": null,
            "_view_module": "@jupyter-widgets/controls",
            "_view_module_version": "1.5.0",
            "_view_name": "HBoxView",
            "box_style": "",
            "children": [
              "IPY_MODEL_167d0fe8cb954551b556c9039238067b",
              "IPY_MODEL_24e9deb893704d608db4f4e92f358761",
              "IPY_MODEL_259ac4bcabac47e2adcc51f7d0b63ead"
            ],
            "layout": "IPY_MODEL_1bf0cd8da9104d91aeb2dffc1a1b2642"
          }
        },
        "167d0fe8cb954551b556c9039238067b": {
          "model_module": "@jupyter-widgets/controls",
          "model_name": "HTMLModel",
          "model_module_version": "1.5.0",
          "state": {
            "_dom_classes": [],
            "_model_module": "@jupyter-widgets/controls",
            "_model_module_version": "1.5.0",
            "_model_name": "HTMLModel",
            "_view_count": null,
            "_view_module": "@jupyter-widgets/controls",
            "_view_module_version": "1.5.0",
            "_view_name": "HTMLView",
            "description": "",
            "description_tooltip": null,
            "layout": "IPY_MODEL_83c4797f8e0f4a479fd0d06d99e7f78a",
            "placeholder": "​",
            "style": "IPY_MODEL_90a9ff33cbb34314be68060b691b14b7",
            "value": "100%"
          }
        },
        "24e9deb893704d608db4f4e92f358761": {
          "model_module": "@jupyter-widgets/controls",
          "model_name": "FloatProgressModel",
          "model_module_version": "1.5.0",
          "state": {
            "_dom_classes": [],
            "_model_module": "@jupyter-widgets/controls",
            "_model_module_version": "1.5.0",
            "_model_name": "FloatProgressModel",
            "_view_count": null,
            "_view_module": "@jupyter-widgets/controls",
            "_view_module_version": "1.5.0",
            "_view_name": "ProgressView",
            "bar_style": "success",
            "description": "",
            "description_tooltip": null,
            "layout": "IPY_MODEL_8c2154dfc7384794bef9ff484ac85ee9",
            "max": 28881,
            "min": 0,
            "orientation": "horizontal",
            "style": "IPY_MODEL_197403e72e084e638bf404c4518139c4",
            "value": 28881
          }
        },
        "259ac4bcabac47e2adcc51f7d0b63ead": {
          "model_module": "@jupyter-widgets/controls",
          "model_name": "HTMLModel",
          "model_module_version": "1.5.0",
          "state": {
            "_dom_classes": [],
            "_model_module": "@jupyter-widgets/controls",
            "_model_module_version": "1.5.0",
            "_model_name": "HTMLModel",
            "_view_count": null,
            "_view_module": "@jupyter-widgets/controls",
            "_view_module_version": "1.5.0",
            "_view_name": "HTMLView",
            "description": "",
            "description_tooltip": null,
            "layout": "IPY_MODEL_aff3daa7daef4415add557a43eb2f4ed",
            "placeholder": "​",
            "style": "IPY_MODEL_744f86d444444e62be703a28284f7edc",
            "value": " 28881/28881 [00:00&lt;00:00, 333798.18it/s]"
          }
        },
        "1bf0cd8da9104d91aeb2dffc1a1b2642": {
          "model_module": "@jupyter-widgets/base",
          "model_name": "LayoutModel",
          "model_module_version": "1.2.0",
          "state": {
            "_model_module": "@jupyter-widgets/base",
            "_model_module_version": "1.2.0",
            "_model_name": "LayoutModel",
            "_view_count": null,
            "_view_module": "@jupyter-widgets/base",
            "_view_module_version": "1.2.0",
            "_view_name": "LayoutView",
            "align_content": null,
            "align_items": null,
            "align_self": null,
            "border": null,
            "bottom": null,
            "display": null,
            "flex": null,
            "flex_flow": null,
            "grid_area": null,
            "grid_auto_columns": null,
            "grid_auto_flow": null,
            "grid_auto_rows": null,
            "grid_column": null,
            "grid_gap": null,
            "grid_row": null,
            "grid_template_areas": null,
            "grid_template_columns": null,
            "grid_template_rows": null,
            "height": null,
            "justify_content": null,
            "justify_items": null,
            "left": null,
            "margin": null,
            "max_height": null,
            "max_width": null,
            "min_height": null,
            "min_width": null,
            "object_fit": null,
            "object_position": null,
            "order": null,
            "overflow": null,
            "overflow_x": null,
            "overflow_y": null,
            "padding": null,
            "right": null,
            "top": null,
            "visibility": null,
            "width": null
          }
        },
        "83c4797f8e0f4a479fd0d06d99e7f78a": {
          "model_module": "@jupyter-widgets/base",
          "model_name": "LayoutModel",
          "model_module_version": "1.2.0",
          "state": {
            "_model_module": "@jupyter-widgets/base",
            "_model_module_version": "1.2.0",
            "_model_name": "LayoutModel",
            "_view_count": null,
            "_view_module": "@jupyter-widgets/base",
            "_view_module_version": "1.2.0",
            "_view_name": "LayoutView",
            "align_content": null,
            "align_items": null,
            "align_self": null,
            "border": null,
            "bottom": null,
            "display": null,
            "flex": null,
            "flex_flow": null,
            "grid_area": null,
            "grid_auto_columns": null,
            "grid_auto_flow": null,
            "grid_auto_rows": null,
            "grid_column": null,
            "grid_gap": null,
            "grid_row": null,
            "grid_template_areas": null,
            "grid_template_columns": null,
            "grid_template_rows": null,
            "height": null,
            "justify_content": null,
            "justify_items": null,
            "left": null,
            "margin": null,
            "max_height": null,
            "max_width": null,
            "min_height": null,
            "min_width": null,
            "object_fit": null,
            "object_position": null,
            "order": null,
            "overflow": null,
            "overflow_x": null,
            "overflow_y": null,
            "padding": null,
            "right": null,
            "top": null,
            "visibility": null,
            "width": null
          }
        },
        "90a9ff33cbb34314be68060b691b14b7": {
          "model_module": "@jupyter-widgets/controls",
          "model_name": "DescriptionStyleModel",
          "model_module_version": "1.5.0",
          "state": {
            "_model_module": "@jupyter-widgets/controls",
            "_model_module_version": "1.5.0",
            "_model_name": "DescriptionStyleModel",
            "_view_count": null,
            "_view_module": "@jupyter-widgets/base",
            "_view_module_version": "1.2.0",
            "_view_name": "StyleView",
            "description_width": ""
          }
        },
        "8c2154dfc7384794bef9ff484ac85ee9": {
          "model_module": "@jupyter-widgets/base",
          "model_name": "LayoutModel",
          "model_module_version": "1.2.0",
          "state": {
            "_model_module": "@jupyter-widgets/base",
            "_model_module_version": "1.2.0",
            "_model_name": "LayoutModel",
            "_view_count": null,
            "_view_module": "@jupyter-widgets/base",
            "_view_module_version": "1.2.0",
            "_view_name": "LayoutView",
            "align_content": null,
            "align_items": null,
            "align_self": null,
            "border": null,
            "bottom": null,
            "display": null,
            "flex": null,
            "flex_flow": null,
            "grid_area": null,
            "grid_auto_columns": null,
            "grid_auto_flow": null,
            "grid_auto_rows": null,
            "grid_column": null,
            "grid_gap": null,
            "grid_row": null,
            "grid_template_areas": null,
            "grid_template_columns": null,
            "grid_template_rows": null,
            "height": null,
            "justify_content": null,
            "justify_items": null,
            "left": null,
            "margin": null,
            "max_height": null,
            "max_width": null,
            "min_height": null,
            "min_width": null,
            "object_fit": null,
            "object_position": null,
            "order": null,
            "overflow": null,
            "overflow_x": null,
            "overflow_y": null,
            "padding": null,
            "right": null,
            "top": null,
            "visibility": null,
            "width": null
          }
        },
        "197403e72e084e638bf404c4518139c4": {
          "model_module": "@jupyter-widgets/controls",
          "model_name": "ProgressStyleModel",
          "model_module_version": "1.5.0",
          "state": {
            "_model_module": "@jupyter-widgets/controls",
            "_model_module_version": "1.5.0",
            "_model_name": "ProgressStyleModel",
            "_view_count": null,
            "_view_module": "@jupyter-widgets/base",
            "_view_module_version": "1.2.0",
            "_view_name": "StyleView",
            "bar_color": null,
            "description_width": ""
          }
        },
        "aff3daa7daef4415add557a43eb2f4ed": {
          "model_module": "@jupyter-widgets/base",
          "model_name": "LayoutModel",
          "model_module_version": "1.2.0",
          "state": {
            "_model_module": "@jupyter-widgets/base",
            "_model_module_version": "1.2.0",
            "_model_name": "LayoutModel",
            "_view_count": null,
            "_view_module": "@jupyter-widgets/base",
            "_view_module_version": "1.2.0",
            "_view_name": "LayoutView",
            "align_content": null,
            "align_items": null,
            "align_self": null,
            "border": null,
            "bottom": null,
            "display": null,
            "flex": null,
            "flex_flow": null,
            "grid_area": null,
            "grid_auto_columns": null,
            "grid_auto_flow": null,
            "grid_auto_rows": null,
            "grid_column": null,
            "grid_gap": null,
            "grid_row": null,
            "grid_template_areas": null,
            "grid_template_columns": null,
            "grid_template_rows": null,
            "height": null,
            "justify_content": null,
            "justify_items": null,
            "left": null,
            "margin": null,
            "max_height": null,
            "max_width": null,
            "min_height": null,
            "min_width": null,
            "object_fit": null,
            "object_position": null,
            "order": null,
            "overflow": null,
            "overflow_x": null,
            "overflow_y": null,
            "padding": null,
            "right": null,
            "top": null,
            "visibility": null,
            "width": null
          }
        },
        "744f86d444444e62be703a28284f7edc": {
          "model_module": "@jupyter-widgets/controls",
          "model_name": "DescriptionStyleModel",
          "model_module_version": "1.5.0",
          "state": {
            "_model_module": "@jupyter-widgets/controls",
            "_model_module_version": "1.5.0",
            "_model_name": "DescriptionStyleModel",
            "_view_count": null,
            "_view_module": "@jupyter-widgets/base",
            "_view_module_version": "1.2.0",
            "_view_name": "StyleView",
            "description_width": ""
          }
        },
        "c9003bd2e1d74b97b3e311d00d0ae120": {
          "model_module": "@jupyter-widgets/controls",
          "model_name": "HBoxModel",
          "model_module_version": "1.5.0",
          "state": {
            "_dom_classes": [],
            "_model_module": "@jupyter-widgets/controls",
            "_model_module_version": "1.5.0",
            "_model_name": "HBoxModel",
            "_view_count": null,
            "_view_module": "@jupyter-widgets/controls",
            "_view_module_version": "1.5.0",
            "_view_name": "HBoxView",
            "box_style": "",
            "children": [
              "IPY_MODEL_5d85048ecf0245de8abb676fedc1f385",
              "IPY_MODEL_66099a601fdf4241b98245ca9b1d39af",
              "IPY_MODEL_e27b37b6431e44ec935f82cf8af4c95b"
            ],
            "layout": "IPY_MODEL_42f43c33091a44e18f1aa6983c4ee2b3"
          }
        },
        "5d85048ecf0245de8abb676fedc1f385": {
          "model_module": "@jupyter-widgets/controls",
          "model_name": "HTMLModel",
          "model_module_version": "1.5.0",
          "state": {
            "_dom_classes": [],
            "_model_module": "@jupyter-widgets/controls",
            "_model_module_version": "1.5.0",
            "_model_name": "HTMLModel",
            "_view_count": null,
            "_view_module": "@jupyter-widgets/controls",
            "_view_module_version": "1.5.0",
            "_view_name": "HTMLView",
            "description": "",
            "description_tooltip": null,
            "layout": "IPY_MODEL_99626e60aaa343f0ae5b1200ab3f11ba",
            "placeholder": "​",
            "style": "IPY_MODEL_d18d0ebab5654f32a3241c33691e6716",
            "value": "100%"
          }
        },
        "66099a601fdf4241b98245ca9b1d39af": {
          "model_module": "@jupyter-widgets/controls",
          "model_name": "FloatProgressModel",
          "model_module_version": "1.5.0",
          "state": {
            "_dom_classes": [],
            "_model_module": "@jupyter-widgets/controls",
            "_model_module_version": "1.5.0",
            "_model_name": "FloatProgressModel",
            "_view_count": null,
            "_view_module": "@jupyter-widgets/controls",
            "_view_module_version": "1.5.0",
            "_view_name": "ProgressView",
            "bar_style": "success",
            "description": "",
            "description_tooltip": null,
            "layout": "IPY_MODEL_9cc342d0a0384bfa870e7aaeece7db53",
            "max": 1648877,
            "min": 0,
            "orientation": "horizontal",
            "style": "IPY_MODEL_0fc94df1fb714e498d901e81cff32d66",
            "value": 1648877
          }
        },
        "e27b37b6431e44ec935f82cf8af4c95b": {
          "model_module": "@jupyter-widgets/controls",
          "model_name": "HTMLModel",
          "model_module_version": "1.5.0",
          "state": {
            "_dom_classes": [],
            "_model_module": "@jupyter-widgets/controls",
            "_model_module_version": "1.5.0",
            "_model_name": "HTMLModel",
            "_view_count": null,
            "_view_module": "@jupyter-widgets/controls",
            "_view_module_version": "1.5.0",
            "_view_name": "HTMLView",
            "description": "",
            "description_tooltip": null,
            "layout": "IPY_MODEL_f157863b60e6416987ccda92a54332f7",
            "placeholder": "​",
            "style": "IPY_MODEL_c58ec622dcbd42a59bc10d8459538673",
            "value": " 1648877/1648877 [00:00&lt;00:00, 8772325.87it/s]"
          }
        },
        "42f43c33091a44e18f1aa6983c4ee2b3": {
          "model_module": "@jupyter-widgets/base",
          "model_name": "LayoutModel",
          "model_module_version": "1.2.0",
          "state": {
            "_model_module": "@jupyter-widgets/base",
            "_model_module_version": "1.2.0",
            "_model_name": "LayoutModel",
            "_view_count": null,
            "_view_module": "@jupyter-widgets/base",
            "_view_module_version": "1.2.0",
            "_view_name": "LayoutView",
            "align_content": null,
            "align_items": null,
            "align_self": null,
            "border": null,
            "bottom": null,
            "display": null,
            "flex": null,
            "flex_flow": null,
            "grid_area": null,
            "grid_auto_columns": null,
            "grid_auto_flow": null,
            "grid_auto_rows": null,
            "grid_column": null,
            "grid_gap": null,
            "grid_row": null,
            "grid_template_areas": null,
            "grid_template_columns": null,
            "grid_template_rows": null,
            "height": null,
            "justify_content": null,
            "justify_items": null,
            "left": null,
            "margin": null,
            "max_height": null,
            "max_width": null,
            "min_height": null,
            "min_width": null,
            "object_fit": null,
            "object_position": null,
            "order": null,
            "overflow": null,
            "overflow_x": null,
            "overflow_y": null,
            "padding": null,
            "right": null,
            "top": null,
            "visibility": null,
            "width": null
          }
        },
        "99626e60aaa343f0ae5b1200ab3f11ba": {
          "model_module": "@jupyter-widgets/base",
          "model_name": "LayoutModel",
          "model_module_version": "1.2.0",
          "state": {
            "_model_module": "@jupyter-widgets/base",
            "_model_module_version": "1.2.0",
            "_model_name": "LayoutModel",
            "_view_count": null,
            "_view_module": "@jupyter-widgets/base",
            "_view_module_version": "1.2.0",
            "_view_name": "LayoutView",
            "align_content": null,
            "align_items": null,
            "align_self": null,
            "border": null,
            "bottom": null,
            "display": null,
            "flex": null,
            "flex_flow": null,
            "grid_area": null,
            "grid_auto_columns": null,
            "grid_auto_flow": null,
            "grid_auto_rows": null,
            "grid_column": null,
            "grid_gap": null,
            "grid_row": null,
            "grid_template_areas": null,
            "grid_template_columns": null,
            "grid_template_rows": null,
            "height": null,
            "justify_content": null,
            "justify_items": null,
            "left": null,
            "margin": null,
            "max_height": null,
            "max_width": null,
            "min_height": null,
            "min_width": null,
            "object_fit": null,
            "object_position": null,
            "order": null,
            "overflow": null,
            "overflow_x": null,
            "overflow_y": null,
            "padding": null,
            "right": null,
            "top": null,
            "visibility": null,
            "width": null
          }
        },
        "d18d0ebab5654f32a3241c33691e6716": {
          "model_module": "@jupyter-widgets/controls",
          "model_name": "DescriptionStyleModel",
          "model_module_version": "1.5.0",
          "state": {
            "_model_module": "@jupyter-widgets/controls",
            "_model_module_version": "1.5.0",
            "_model_name": "DescriptionStyleModel",
            "_view_count": null,
            "_view_module": "@jupyter-widgets/base",
            "_view_module_version": "1.2.0",
            "_view_name": "StyleView",
            "description_width": ""
          }
        },
        "9cc342d0a0384bfa870e7aaeece7db53": {
          "model_module": "@jupyter-widgets/base",
          "model_name": "LayoutModel",
          "model_module_version": "1.2.0",
          "state": {
            "_model_module": "@jupyter-widgets/base",
            "_model_module_version": "1.2.0",
            "_model_name": "LayoutModel",
            "_view_count": null,
            "_view_module": "@jupyter-widgets/base",
            "_view_module_version": "1.2.0",
            "_view_name": "LayoutView",
            "align_content": null,
            "align_items": null,
            "align_self": null,
            "border": null,
            "bottom": null,
            "display": null,
            "flex": null,
            "flex_flow": null,
            "grid_area": null,
            "grid_auto_columns": null,
            "grid_auto_flow": null,
            "grid_auto_rows": null,
            "grid_column": null,
            "grid_gap": null,
            "grid_row": null,
            "grid_template_areas": null,
            "grid_template_columns": null,
            "grid_template_rows": null,
            "height": null,
            "justify_content": null,
            "justify_items": null,
            "left": null,
            "margin": null,
            "max_height": null,
            "max_width": null,
            "min_height": null,
            "min_width": null,
            "object_fit": null,
            "object_position": null,
            "order": null,
            "overflow": null,
            "overflow_x": null,
            "overflow_y": null,
            "padding": null,
            "right": null,
            "top": null,
            "visibility": null,
            "width": null
          }
        },
        "0fc94df1fb714e498d901e81cff32d66": {
          "model_module": "@jupyter-widgets/controls",
          "model_name": "ProgressStyleModel",
          "model_module_version": "1.5.0",
          "state": {
            "_model_module": "@jupyter-widgets/controls",
            "_model_module_version": "1.5.0",
            "_model_name": "ProgressStyleModel",
            "_view_count": null,
            "_view_module": "@jupyter-widgets/base",
            "_view_module_version": "1.2.0",
            "_view_name": "StyleView",
            "bar_color": null,
            "description_width": ""
          }
        },
        "f157863b60e6416987ccda92a54332f7": {
          "model_module": "@jupyter-widgets/base",
          "model_name": "LayoutModel",
          "model_module_version": "1.2.0",
          "state": {
            "_model_module": "@jupyter-widgets/base",
            "_model_module_version": "1.2.0",
            "_model_name": "LayoutModel",
            "_view_count": null,
            "_view_module": "@jupyter-widgets/base",
            "_view_module_version": "1.2.0",
            "_view_name": "LayoutView",
            "align_content": null,
            "align_items": null,
            "align_self": null,
            "border": null,
            "bottom": null,
            "display": null,
            "flex": null,
            "flex_flow": null,
            "grid_area": null,
            "grid_auto_columns": null,
            "grid_auto_flow": null,
            "grid_auto_rows": null,
            "grid_column": null,
            "grid_gap": null,
            "grid_row": null,
            "grid_template_areas": null,
            "grid_template_columns": null,
            "grid_template_rows": null,
            "height": null,
            "justify_content": null,
            "justify_items": null,
            "left": null,
            "margin": null,
            "max_height": null,
            "max_width": null,
            "min_height": null,
            "min_width": null,
            "object_fit": null,
            "object_position": null,
            "order": null,
            "overflow": null,
            "overflow_x": null,
            "overflow_y": null,
            "padding": null,
            "right": null,
            "top": null,
            "visibility": null,
            "width": null
          }
        },
        "c58ec622dcbd42a59bc10d8459538673": {
          "model_module": "@jupyter-widgets/controls",
          "model_name": "DescriptionStyleModel",
          "model_module_version": "1.5.0",
          "state": {
            "_model_module": "@jupyter-widgets/controls",
            "_model_module_version": "1.5.0",
            "_model_name": "DescriptionStyleModel",
            "_view_count": null,
            "_view_module": "@jupyter-widgets/base",
            "_view_module_version": "1.2.0",
            "_view_name": "StyleView",
            "description_width": ""
          }
        },
        "9ddf9d394c97453f8b51d9eb7a987136": {
          "model_module": "@jupyter-widgets/controls",
          "model_name": "HBoxModel",
          "model_module_version": "1.5.0",
          "state": {
            "_dom_classes": [],
            "_model_module": "@jupyter-widgets/controls",
            "_model_module_version": "1.5.0",
            "_model_name": "HBoxModel",
            "_view_count": null,
            "_view_module": "@jupyter-widgets/controls",
            "_view_module_version": "1.5.0",
            "_view_name": "HBoxView",
            "box_style": "",
            "children": [
              "IPY_MODEL_4ed748989e1b4c99b63c1f55d5328378",
              "IPY_MODEL_9d8678615a3c48e2a4b4267c8d5e8187",
              "IPY_MODEL_d2f6c6979e0f43a5bb9cebb3436d2bea"
            ],
            "layout": "IPY_MODEL_2621ddfa06c24b64806b26d1ee9c3153"
          }
        },
        "4ed748989e1b4c99b63c1f55d5328378": {
          "model_module": "@jupyter-widgets/controls",
          "model_name": "HTMLModel",
          "model_module_version": "1.5.0",
          "state": {
            "_dom_classes": [],
            "_model_module": "@jupyter-widgets/controls",
            "_model_module_version": "1.5.0",
            "_model_name": "HTMLModel",
            "_view_count": null,
            "_view_module": "@jupyter-widgets/controls",
            "_view_module_version": "1.5.0",
            "_view_name": "HTMLView",
            "description": "",
            "description_tooltip": null,
            "layout": "IPY_MODEL_b835be7d884140bab14cc808f23eb5fa",
            "placeholder": "​",
            "style": "IPY_MODEL_420fcd2e7f844a78aa0f45204f605186",
            "value": "100%"
          }
        },
        "9d8678615a3c48e2a4b4267c8d5e8187": {
          "model_module": "@jupyter-widgets/controls",
          "model_name": "FloatProgressModel",
          "model_module_version": "1.5.0",
          "state": {
            "_dom_classes": [],
            "_model_module": "@jupyter-widgets/controls",
            "_model_module_version": "1.5.0",
            "_model_name": "FloatProgressModel",
            "_view_count": null,
            "_view_module": "@jupyter-widgets/controls",
            "_view_module_version": "1.5.0",
            "_view_name": "ProgressView",
            "bar_style": "success",
            "description": "",
            "description_tooltip": null,
            "layout": "IPY_MODEL_f6bd3a417de84443909a6b211ebd0ff8",
            "max": 4542,
            "min": 0,
            "orientation": "horizontal",
            "style": "IPY_MODEL_46d001fc5efa4830ba6b74f246d1e41f",
            "value": 4542
          }
        },
        "d2f6c6979e0f43a5bb9cebb3436d2bea": {
          "model_module": "@jupyter-widgets/controls",
          "model_name": "HTMLModel",
          "model_module_version": "1.5.0",
          "state": {
            "_dom_classes": [],
            "_model_module": "@jupyter-widgets/controls",
            "_model_module_version": "1.5.0",
            "_model_name": "HTMLModel",
            "_view_count": null,
            "_view_module": "@jupyter-widgets/controls",
            "_view_module_version": "1.5.0",
            "_view_name": "HTMLView",
            "description": "",
            "description_tooltip": null,
            "layout": "IPY_MODEL_65167537e78f4c33965c302cde95af78",
            "placeholder": "​",
            "style": "IPY_MODEL_2b9f5590b88740bca6d33165dc31db58",
            "value": " 4542/4542 [00:00&lt;00:00, 40871.23it/s]"
          }
        },
        "2621ddfa06c24b64806b26d1ee9c3153": {
          "model_module": "@jupyter-widgets/base",
          "model_name": "LayoutModel",
          "model_module_version": "1.2.0",
          "state": {
            "_model_module": "@jupyter-widgets/base",
            "_model_module_version": "1.2.0",
            "_model_name": "LayoutModel",
            "_view_count": null,
            "_view_module": "@jupyter-widgets/base",
            "_view_module_version": "1.2.0",
            "_view_name": "LayoutView",
            "align_content": null,
            "align_items": null,
            "align_self": null,
            "border": null,
            "bottom": null,
            "display": null,
            "flex": null,
            "flex_flow": null,
            "grid_area": null,
            "grid_auto_columns": null,
            "grid_auto_flow": null,
            "grid_auto_rows": null,
            "grid_column": null,
            "grid_gap": null,
            "grid_row": null,
            "grid_template_areas": null,
            "grid_template_columns": null,
            "grid_template_rows": null,
            "height": null,
            "justify_content": null,
            "justify_items": null,
            "left": null,
            "margin": null,
            "max_height": null,
            "max_width": null,
            "min_height": null,
            "min_width": null,
            "object_fit": null,
            "object_position": null,
            "order": null,
            "overflow": null,
            "overflow_x": null,
            "overflow_y": null,
            "padding": null,
            "right": null,
            "top": null,
            "visibility": null,
            "width": null
          }
        },
        "b835be7d884140bab14cc808f23eb5fa": {
          "model_module": "@jupyter-widgets/base",
          "model_name": "LayoutModel",
          "model_module_version": "1.2.0",
          "state": {
            "_model_module": "@jupyter-widgets/base",
            "_model_module_version": "1.2.0",
            "_model_name": "LayoutModel",
            "_view_count": null,
            "_view_module": "@jupyter-widgets/base",
            "_view_module_version": "1.2.0",
            "_view_name": "LayoutView",
            "align_content": null,
            "align_items": null,
            "align_self": null,
            "border": null,
            "bottom": null,
            "display": null,
            "flex": null,
            "flex_flow": null,
            "grid_area": null,
            "grid_auto_columns": null,
            "grid_auto_flow": null,
            "grid_auto_rows": null,
            "grid_column": null,
            "grid_gap": null,
            "grid_row": null,
            "grid_template_areas": null,
            "grid_template_columns": null,
            "grid_template_rows": null,
            "height": null,
            "justify_content": null,
            "justify_items": null,
            "left": null,
            "margin": null,
            "max_height": null,
            "max_width": null,
            "min_height": null,
            "min_width": null,
            "object_fit": null,
            "object_position": null,
            "order": null,
            "overflow": null,
            "overflow_x": null,
            "overflow_y": null,
            "padding": null,
            "right": null,
            "top": null,
            "visibility": null,
            "width": null
          }
        },
        "420fcd2e7f844a78aa0f45204f605186": {
          "model_module": "@jupyter-widgets/controls",
          "model_name": "DescriptionStyleModel",
          "model_module_version": "1.5.0",
          "state": {
            "_model_module": "@jupyter-widgets/controls",
            "_model_module_version": "1.5.0",
            "_model_name": "DescriptionStyleModel",
            "_view_count": null,
            "_view_module": "@jupyter-widgets/base",
            "_view_module_version": "1.2.0",
            "_view_name": "StyleView",
            "description_width": ""
          }
        },
        "f6bd3a417de84443909a6b211ebd0ff8": {
          "model_module": "@jupyter-widgets/base",
          "model_name": "LayoutModel",
          "model_module_version": "1.2.0",
          "state": {
            "_model_module": "@jupyter-widgets/base",
            "_model_module_version": "1.2.0",
            "_model_name": "LayoutModel",
            "_view_count": null,
            "_view_module": "@jupyter-widgets/base",
            "_view_module_version": "1.2.0",
            "_view_name": "LayoutView",
            "align_content": null,
            "align_items": null,
            "align_self": null,
            "border": null,
            "bottom": null,
            "display": null,
            "flex": null,
            "flex_flow": null,
            "grid_area": null,
            "grid_auto_columns": null,
            "grid_auto_flow": null,
            "grid_auto_rows": null,
            "grid_column": null,
            "grid_gap": null,
            "grid_row": null,
            "grid_template_areas": null,
            "grid_template_columns": null,
            "grid_template_rows": null,
            "height": null,
            "justify_content": null,
            "justify_items": null,
            "left": null,
            "margin": null,
            "max_height": null,
            "max_width": null,
            "min_height": null,
            "min_width": null,
            "object_fit": null,
            "object_position": null,
            "order": null,
            "overflow": null,
            "overflow_x": null,
            "overflow_y": null,
            "padding": null,
            "right": null,
            "top": null,
            "visibility": null,
            "width": null
          }
        },
        "46d001fc5efa4830ba6b74f246d1e41f": {
          "model_module": "@jupyter-widgets/controls",
          "model_name": "ProgressStyleModel",
          "model_module_version": "1.5.0",
          "state": {
            "_model_module": "@jupyter-widgets/controls",
            "_model_module_version": "1.5.0",
            "_model_name": "ProgressStyleModel",
            "_view_count": null,
            "_view_module": "@jupyter-widgets/base",
            "_view_module_version": "1.2.0",
            "_view_name": "StyleView",
            "bar_color": null,
            "description_width": ""
          }
        },
        "65167537e78f4c33965c302cde95af78": {
          "model_module": "@jupyter-widgets/base",
          "model_name": "LayoutModel",
          "model_module_version": "1.2.0",
          "state": {
            "_model_module": "@jupyter-widgets/base",
            "_model_module_version": "1.2.0",
            "_model_name": "LayoutModel",
            "_view_count": null,
            "_view_module": "@jupyter-widgets/base",
            "_view_module_version": "1.2.0",
            "_view_name": "LayoutView",
            "align_content": null,
            "align_items": null,
            "align_self": null,
            "border": null,
            "bottom": null,
            "display": null,
            "flex": null,
            "flex_flow": null,
            "grid_area": null,
            "grid_auto_columns": null,
            "grid_auto_flow": null,
            "grid_auto_rows": null,
            "grid_column": null,
            "grid_gap": null,
            "grid_row": null,
            "grid_template_areas": null,
            "grid_template_columns": null,
            "grid_template_rows": null,
            "height": null,
            "justify_content": null,
            "justify_items": null,
            "left": null,
            "margin": null,
            "max_height": null,
            "max_width": null,
            "min_height": null,
            "min_width": null,
            "object_fit": null,
            "object_position": null,
            "order": null,
            "overflow": null,
            "overflow_x": null,
            "overflow_y": null,
            "padding": null,
            "right": null,
            "top": null,
            "visibility": null,
            "width": null
          }
        },
        "2b9f5590b88740bca6d33165dc31db58": {
          "model_module": "@jupyter-widgets/controls",
          "model_name": "DescriptionStyleModel",
          "model_module_version": "1.5.0",
          "state": {
            "_model_module": "@jupyter-widgets/controls",
            "_model_module_version": "1.5.0",
            "_model_name": "DescriptionStyleModel",
            "_view_count": null,
            "_view_module": "@jupyter-widgets/base",
            "_view_module_version": "1.2.0",
            "_view_name": "StyleView",
            "description_width": ""
          }
        }
      }
    }
  },
  "nbformat": 4,
  "nbformat_minor": 5
}