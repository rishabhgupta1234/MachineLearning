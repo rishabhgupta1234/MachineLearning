{
 "cells": [
  {
   "cell_type": "markdown",
   "metadata": {
    "id": "NSd3vc8oPt3b"
   },
   "source": [
    "# Assignment 1\n",
    "## Question `1` (K-Nearest Neighbour)\n",
    "\n",
    "| | |\n",
    "|-|-|\n",
    "| Course | Statistical Methods in AI |\n",
    "| Release Date | `19.01.2023` |\n",
    "| Due Date | `29.01.2023` |\n",
    "\n",
    "### Instructions:\n",
    "1.   Assignment must be implemented using python notebook only (Colab , VsCode , Jupyter etc.)\n",
    "2.   You are allowed to use libraries for data preprocessing (numpy, pandas, nltk etc) and for algorithms as well (sklearn etc). You are not however allowed to directly use classifier models.\n",
    "3.   The performance of the model will hold weightage but you will also be graded largely for data preprocessing steps , explanations , feature selection for vectors etc.\n",
    "4.   Strict plagiarism checking will be done. An F will be awarded for plagiarism.\n",
    "\n",
    "### The Dataset\n",
    "The dataset is avaible in the zip file which is a collection of *11099 tweets*. The data will be in the form of a csv file. The ground truth is also given in the zip file which corresponds to whether a tweet was popular or not. Since the task involves selecting features yourself to vectorize a tweet , we suggest some data analysis of the columns you consider important.\n",
    "<br><br>\n",
    "\n",
    "### The Task\n",
    "You have to build a classifier which can predict the popularity of the tweet, i.e , if the tweet was popular or not. You are required to use **KNN** algorithm to build the classifier and cannot use any inbuilt classifier. All columns are supposed to be analyzed , filtered and preprocessed to determine its importance as a feature in the vector for every tweet (Not every column will be useful).<br>\n",
    "The Data contains the **raw text of the tweet**(in the text column) as well as other **meta data** like likes count , user followers count. Note that it might be useful to **create new columns** with useful information. For example, *number of hashtags* might be useful but is not directly present as a column.<br>\n",
    "There are 3 main sub parts:\n",
    "1. *Vectorize tweets using only meta data* - likes , user followers count , and other created data\n",
    "2. *Vectorize tweets using only it's text*. This segment will require NLP techniques to clean the text and extract a vector using a BoW model. Here is a useful link for the same - [Tf-Idf](https://towardsdatascience.com/text-vectorization-term-frequency-inverse-document-frequency-tfidf-5a3f9604da6d). Since these vectors will be very large , we recommend reducing their dimensinality (~10 - 25). Hint: [Dimentionality Reduction](https://jonathan-hui.medium.com/machine-learning-singular-value-decomposition-svd-principal-component-analysis-pca-1d45e885e491). Please note that for this also you are allowed to use libraries.\n",
    "\n",
    "3. *Combining the vectors from above two techinques to create one bigger vector*\n",
    "<br>\n",
    "\n",
    "\n",
    "Using KNN on these vectors build a classifier to predict the popularity of the tweet and report accuracies on each of the three methods as well as analysis. You can use sklearn's Nearest Neighbors and need not write KNN from scratch. (However you cannot use the classifier directly). You are expected to try the classifier for different number of neighbors and identify the optimal K value."
   ]
  },
  {
   "cell_type": "markdown",
   "metadata": {
    "id": "0LJvylX8680U"
   },
   "source": [
    "## Import necessary libraries"
   ]
  },
  {
   "cell_type": "code",
   "execution_count": 1,
   "metadata": {
    "id": "UrD1GJ6-YA5M"
   },
   "outputs": [],
   "source": [
    "import numpy as np\n",
    "import pandas as pd\n",
    "import matplotlib.pyplot as plt\n",
    "from sklearn.model_selection import train_test_split\n",
    "from sklearn.preprocessing import StandardScaler\n",
    "import re\n",
    "from sklearn.neighbors import NearestNeighbors\n",
    "from sklearn.metrics import accuracy_score\n",
    "from scipy.stats import mode\n",
    "from sklearn.feature_extraction.text import TfidfVectorizer\n",
    "from sklearn.model_selection import train_test_split  \n",
    "from sklearn.preprocessing import StandardScaler\n",
    "from sklearn.decomposition import PCA\n",
    "\n",
    "%matplotlib inline"
   ]
  },
  {
   "cell_type": "markdown",
   "metadata": {
    "id": "eoakVIVW7EOT"
   },
   "source": [
    "## Load and display the data"
   ]
  },
  {
   "cell_type": "code",
   "execution_count": 2,
   "metadata": {
    "id": "YRwXxW4WwEL8"
   },
   "outputs": [
    {
     "name": "stdout",
     "output_type": "stream",
     "text": [
      "                       created_at            id        id_str  \\\n",
      "0  Tue Jul 31 13:34:34 +0000 2018  1.024290e+18  1.024290e+18   \n",
      "1  Tue Jul 31 13:34:14 +0000 2018  1.024290e+18  1.024290e+18   \n",
      "2  Tue Jul 31 13:34:40 +0000 2018  1.024290e+18  1.024290e+18   \n",
      "\n",
      "                                                text  truncated  \\\n",
      "0  RT @EdwardTHardy: The 7th US Circuit Court of ...      False   \n",
      "1  RT @VenomMovie: The world has enough superhero...      False   \n",
      "2  RT @FutbolBible: Teachers vs Students match &a...      False   \n",
      "\n",
      "                                            entities  \\\n",
      "0  {'hashtags': [], 'symbols': [], 'user_mentions...   \n",
      "1  {'hashtags': [{'text': 'Venom', 'indices': [64...   \n",
      "2  {'hashtags': [], 'symbols': [], 'user_mentions...   \n",
      "\n",
      "                                            metadata  \\\n",
      "0  {'iso_language_code': 'en', 'result_type': 're...   \n",
      "1  {'iso_language_code': 'en', 'result_type': 're...   \n",
      "2  {'iso_language_code': 'en', 'result_type': 're...   \n",
      "\n",
      "                                              source  is_quote_status  \\\n",
      "0  <a href=\"http://twitter.com/download/android\" ...            False   \n",
      "1  <a href=\"http://twitter.com/download/android\" ...            False   \n",
      "2  <a href=\"http://twitter.com/download/iphone\" r...            False   \n",
      "\n",
      "   retweet_count  ...  lang         user_name user_screen_name  \\\n",
      "0            113  ...    en       Sherry Wahl   queenfancygirl   \n",
      "1           5902  ...    en  Kay Khairil ðŸŒ      ikaykhairil   \n",
      "2           3745  ...    en  Charlie Hamilton         ch100897   \n",
      "\n",
      "  user_followers_count  user_friends_count  user_listed_count  \\\n",
      "0                  153                 264                  7   \n",
      "1                  780                 382                 12   \n",
      "2                  255                 246                  1   \n",
      "\n",
      "                  user_created_at user_favourites_count  user_verified  \\\n",
      "0  Thu Mar 18 19:16:31 +0000 2010                 32984          False   \n",
      "1  Wed Mar 17 03:27:51 +0000 2010                  6648          False   \n",
      "2  Sun Mar 03 09:23:03 +0000 2013                  5426          False   \n",
      "\n",
      "   user_statuses_count  \n",
      "0                31308  \n",
      "1                87272  \n",
      "2                 1731  \n",
      "\n",
      "[3 rows x 21 columns]\n",
      "   0\n",
      "0  0\n",
      "1  0\n",
      "2  1\n"
     ]
    }
   ],
   "source": [
    "data=pd.read_csv('Tweets.csv')\n",
    "print(data.head(3))\n",
    "y=pd.read_csv('./ground_truth.csv',header=None)\n",
    "print(y.head(3))"
   ]
  },
  {
   "cell_type": "code",
   "execution_count": 3,
   "metadata": {
    "id": "WAH13731wPS5"
   },
   "outputs": [
    {
     "name": "stdout",
     "output_type": "stream",
     "text": [
      "   user_followers_count  retweet_count  user_statuses_count\n",
      "0                   153            113                31308\n",
      "1                   780           5902                87272\n",
      "2                   255           3745                 1731\n",
      "3                  2419             10                 2153\n",
      "4                   314          25306                33503\n",
      "5                   577           1602                11902\n",
      "6                    11              0                  220\n",
      "7                   820              1                 5024\n",
      "8                  1111              1                 1584\n",
      "9                  1267              0                 1189\n"
     ]
    }
   ],
   "source": [
    "X = data.filter(['user_followers_count','retweet_count','user_statuses_count'], axis=1)\n",
    "print(X.head(10))"
   ]
  },
  {
   "cell_type": "code",
   "execution_count": 4,
   "metadata": {},
   "outputs": [],
   "source": [
    "X=np.array(X)\n",
    "y=np.array(y).ravel()\n",
    "\n",
    "\n",
    "X_train, X_test, y_train, y_test = train_test_split(X, y, test_size=0.2, random_state=1)"
   ]
  },
  {
   "cell_type": "code",
   "execution_count": 5,
   "metadata": {},
   "outputs": [],
   "source": [
    "scaler = StandardScaler().fit(X_train)\n",
    "X_train = scaler.transform(X_train)\n",
    "\n",
    "X_test = scaler.transform(X_test)\n",
    "\n",
    "metaX_train=X_train\n",
    "metaX_test=X_test\n"
   ]
  },
  {
   "cell_type": "code",
   "execution_count": 6,
   "metadata": {},
   "outputs": [],
   "source": [
    "\n",
    "def MajorityVote(indices, train_labels):\n",
    "    labels = [train_labels[i] for i in indices]\n",
    "    labels = np.array(labels)\n",
    "    majority = mode(labels, axis=-1, keepdims=True)\n",
    "    majority = majority[0].ravel()\n",
    "    \n",
    "    return majority"
   ]
  },
  {
   "cell_type": "code",
   "execution_count": 7,
   "metadata": {},
   "outputs": [
    {
     "name": "stdout",
     "output_type": "stream",
     "text": [
      "\n",
      "Testing accuracy for K= 1  is  94.45945945945947\n",
      "\n",
      "Testing accuracy for K= 3  is  94.77477477477477\n",
      "\n",
      "Testing accuracy for K= 5  is  95.04504504504504\n",
      "\n",
      "Testing accuracy for K= 7  is  94.95495495495496\n",
      "\n",
      "Testing accuracy for K= 9  is  95.27027027027027\n",
      "\n",
      "Testing accuracy for K= 11  is  95.18018018018019\n",
      "\n",
      "Testing accuracy for K= 13  is  95.13513513513514\n",
      "\n",
      "Testing accuracy for K= 15  is  95.31531531531532\n",
      "\n",
      "Testing accuracy for K= 17  is  95.27027027027027\n",
      "\n",
      "Testing accuracy for K= 19  is  95.22522522522523\n",
      "\n",
      "Testing accuracy for K= 21  is  95.18018018018019\n",
      "\n",
      "Testing accuracy for K= 23  is  95.13513513513514\n",
      "\n",
      "Testing accuracy for K= 25  is  95.31531531531532\n",
      "\n",
      "Testing accuracy for K= 27  is  95.31531531531532\n",
      "\n",
      "Testing accuracy for K= 29  is  95.27027027027027\n",
      "\n",
      "Testing accuracy for K= 31  is  95.18018018018019\n",
      "\n",
      "Testing accuracy for K= 33  is  95.18018018018019\n",
      "\n",
      "Testing accuracy for K= 35  is  95.13513513513514\n",
      "\n",
      "Testing accuracy for K= 37  is  95.04504504504504\n",
      "\n",
      "Testing accuracy for K= 39  is  94.90990990990991\n",
      "\n",
      "Testing accuracy for K= 41  is  94.95495495495496\n",
      "\n",
      "Testing accuracy for K= 43  is  95.0\n",
      "\n",
      "Testing accuracy for K= 45  is  94.95495495495496\n",
      "\n",
      "Testing accuracy for K= 47  is  94.77477477477477\n",
      "\n",
      "Testing accuracy for K= 49  is  95.0\n",
      "\n",
      "Testing accuracy for K= 51  is  94.90990990990991\n"
     ]
    }
   ],
   "source": [
    "\n",
    "K_range = range(1, 52, 2)\n",
    "test_accuracy = []\n",
    "for n in K_range:\n",
    "    neigh = NearestNeighbors(n_neighbors=n)\n",
    "    neigh.fit(X_train)\n",
    "    _, indices = neigh.kneighbors(X_test)\n",
    "    predicted = MajorityVote(indices, y_train)\n",
    "    accuracy = accuracy_score(y_test, predicted, normalize=True)\n",
    "    accuracy =accuracy * float(100)\n",
    "    test_accuracy.append(accuracy)\n",
    "  \n",
    "    print(\"\\nTesting accuracy for K=\",n,\" is \",accuracy)\n",
    "   "
   ]
  },
  {
   "cell_type": "code",
   "execution_count": 8,
   "metadata": {},
   "outputs": [
    {
     "data": {
      "image/png": "[encoded data removed]",
      "text/plain": [
       "<Figure size 640x480 with 1 Axes>"
      ]
     },
     "metadata": {},
     "output_type": "display_data"
    }
   ],
   "source": [
    "plt.plot(K_range, test_accuracy)\n",
    "plt.ylabel(\"Accuracy\")\n",
    "plt.xlabel(\"Value of k\")\n",
    "plt.show()"
   ]
  },
  {
   "cell_type": "code",
   "execution_count": 9,
   "metadata": {},
   "outputs": [
    {
     "name": "stdout",
     "output_type": "stream",
     "text": [
      "minimum accuracy is  94.45945945945947\n",
      "minimum accuracy K value is  1\n",
      "maximum accuracy is  95.31531531531532\n",
      "maximum accuracy K value is  15\n"
     ]
    }
   ],
   "source": [
    "print(\"minimum accuracy is \",min(test_accuracy))\n",
    "print(\"minimum accuracy K value is \",K_range[np.argmin(test_accuracy)])\n",
    "\n",
    "print(\"maximum accuracy is \",max(test_accuracy))\n",
    "print(\"maximum accuracy K value is \",K_range[np.argmax(test_accuracy)])\n",
    "\n",
    "part1k=K_range[np.argmax(test_accuracy)]\n",
    "part1acc=max(test_accuracy)"
   ]
  },
  {
   "cell_type": "markdown",
   "metadata": {
    "id": "ywNXO3TpwQkV"
   },
   "source": [
    "## Exploratory Data Analysis\n",
    "*This is an ungraded section but is recommended to get a good grasp on the dataset*"
   ]
  },
  {
   "cell_type": "code",
   "execution_count": null,
   "metadata": {
    "id": "Nl8EwC77wqX4"
   },
   "outputs": [],
   "source": []
  },
  {
   "cell_type": "markdown",
   "metadata": {
    "id": "Mztyk9Kew7q1"
   },
   "source": [
    "## Part-1\n",
    "*Vectorize tweets using only meta data*"
   ]
  },
  {
   "cell_type": "code",
   "execution_count": 10,
   "metadata": {
    "id": "y-rDkUtVxQph"
   },
   "outputs": [],
   "source": [
    "\n",
    "\n",
    "def get_features():\n",
    "  \"\"\"\n",
    "  Funtion to return a matrix of dimensions (number of tweets, number of chosen features)\n",
    "  Input parameters to this funcion are to be chosen as per requirement (Example: Loaded dataframe of the dataset) \n",
    "  \"\"\"\n",
    "\n",
    "  # your code here"
   ]
  },
  {
   "cell_type": "markdown",
   "metadata": {
    "id": "4K7Fzh5Q4wrV"
   },
   "source": [
    "Perform KNN using the vector obtained from get_features() function. Following are the steps to be followed:\n",
    "1. Normalise the vectors\n",
    "2. Split the data into training and test to estimate the performance.\n",
    "3. Fit the Nearest Neughbiurs module to the training data and obtain the predicted class by getting the nearest neighbours on the test data.\n",
    "4. Report the accuracy, chosen k-value and method used to obtain the predicted class. Hint: Plot accuracies for a range of k-values. "
   ]
  },
  {
   "cell_type": "code",
   "execution_count": 11,
   "metadata": {
    "id": "EBHGbdsi4fe-"
   },
   "outputs": [],
   "source": [
    "# your code here"
   ]
  },
  {
   "cell_type": "markdown",
   "metadata": {
    "id": "vSufXze8zmV3"
   },
   "source": [
    "## Part-2\n",
    "Vectorize tweets based on the text. More details and reference links can be checked on the Tasks list in the start of the notebook"
   ]
  },
  {
   "cell_type": "code",
   "execution_count": 12,
   "metadata": {
    "id": "GBizLGhg0kQT"
   },
   "outputs": [],
   "source": [
    "def tweet_vectoriser():\n",
    "  \"\"\"\n",
    "  Funtion to return a matrix of dimensions (number of tweets, number of features extracted per tweet)\n",
    "  Following are the steps for be followed:\n",
    "    1. Remove links, tags and hashtags from each tweet.\n",
    "    2. Apply TF-IDF on the tweets to extract a vector. \n",
    "    3. Perform dimensionality reduction on the obtained vector. \n",
    "  Input parameters to this funcion are to be chosen as per requirement (Example: Array of tweets) \n",
    "  \"\"\"\n",
    "  # your code here"
   ]
  },
  {
   "cell_type": "markdown",
   "metadata": {
    "id": "3Q47SVkv9VzO"
   },
   "source": [
    "Perform KNN using the vector obtained from tweet_vectoriser() function. Following are the steps to be followed:\n",
    "\n",
    "1. Normalise the vectors\n",
    "2. Split the data into training and test to estimate the performance.\n",
    "3. Fit the Nearest Neughbiurs module to the training data and obtain the predicted class by getting the nearest neighbours on the test data.\n",
    "4. Report the accuracy, chosen k-value and method used to obtain the predicted class. Hint: Plot accuracies for a range of k-values."
   ]
  },
  {
   "cell_type": "code",
   "execution_count": 13,
   "metadata": {
    "id": "7aDr7vAW-NX_"
   },
   "outputs": [],
   "source": [
    "tweets = data[\"text\"]"
   ]
  },
  {
   "cell_type": "code",
   "execution_count": 14,
   "metadata": {},
   "outputs": [],
   "source": [
    "\n",
    "\n",
    "processed_tweets = []\n",
    "\n",
    "\n",
    "for tweet in range(0, len(tweets)):  \n",
    "   \n",
    "\n",
    "    processed_tweet = re.sub(r'\\s+[a-zA-Z]\\s+', ' ', str(tweets[tweet])) # remove all single characters\n",
    "    processed_tweet = re.sub(\"@[A-Za-z0-9_]+\",\"\", processed_tweet)#removing mentions\n",
    "    processed_tweet = re.sub(\"#[A-Za-z0-9_]+\",\"\", processed_tweet)#removing hastag\n",
    "    processed_tweet = re.sub(\"[0-9][0-9A-Za-z]*\",\"\", processed_tweet)#removing starting with digits\n",
    "    processed_tweet = re.sub(\"[^0-9A-Za-z \\t]*\",\"\", processed_tweet) #remove special characters\n",
    "    processed_tweet = re.sub(\"http\\S+\",\"\", processed_tweet)#removing links\n",
    "    processed_tweet = processed_tweet.lower() # Converting to Lowercase\n",
    "    processed_tweets.append(processed_tweet)\n",
    "    \n",
    "#     print(processed_tweet)\n",
    "    \n",
    "    "
   ]
  },
  {
   "cell_type": "code",
   "execution_count": 15,
   "metadata": {},
   "outputs": [],
   "source": [
    "\n",
    "tfidfconverter = TfidfVectorizer(max_features=None,analyzer='word',max_df=0.7, stop_words=\"english\"  )\n",
    "\n",
    "X = tfidfconverter.fit_transform(processed_tweets).toarray()\n"
   ]
  },
  {
   "cell_type": "code",
   "execution_count": 16,
   "metadata": {},
   "outputs": [],
   "source": [
    "\n",
    "principal=PCA(n_components=25)\n",
    "principal.fit(X)\n",
    "X=principal.transform(X)\n"
   ]
  },
  {
   "cell_type": "code",
   "execution_count": 17,
   "metadata": {},
   "outputs": [],
   "source": [
    "\n",
    "X_train, X_test, y_train, y_test = train_test_split(X, y, test_size=0.2, random_state=1)\n",
    "tfidfX_train=X_train\n",
    "tfidfX_test=X_test"
   ]
  },
  {
   "cell_type": "code",
   "execution_count": 18,
   "metadata": {},
   "outputs": [
    {
     "name": "stdout",
     "output_type": "stream",
     "text": [
      "\n",
      "Test accuracy for k= 1  is  91.30630630630631\n",
      "\n",
      "Test accuracy for k= 3  is  92.88288288288288\n",
      "\n",
      "Test accuracy for k= 5  is  93.46846846846847\n",
      "\n",
      "Test accuracy for k= 7  is  93.1981981981982\n",
      "\n",
      "Test accuracy for k= 9  is  93.01801801801803\n",
      "\n",
      "Test accuracy for k= 11  is  92.97297297297298\n",
      "\n",
      "Test accuracy for k= 13  is  92.7927927927928\n",
      "\n",
      "Test accuracy for k= 15  is  92.97297297297298\n",
      "\n",
      "Test accuracy for k= 17  is  93.01801801801803\n",
      "\n",
      "Test accuracy for k= 19  is  92.92792792792793\n",
      "\n",
      "Test accuracy for k= 21  is  92.7027027027027\n",
      "\n",
      "Test accuracy for k= 23  is  92.52252252252252\n",
      "\n",
      "Test accuracy for k= 25  is  92.56756756756756\n",
      "\n",
      "Test accuracy for k= 27  is  92.43243243243244\n",
      "\n",
      "Test accuracy for k= 29  is  92.43243243243244\n",
      "\n",
      "Test accuracy for k= 31  is  92.43243243243244\n",
      "\n",
      "Test accuracy for k= 33  is  92.43243243243244\n",
      "\n",
      "Test accuracy for k= 35  is  92.43243243243244\n",
      "\n",
      "Test accuracy for k= 37  is  92.43243243243244\n",
      "\n",
      "Test accuracy for k= 39  is  92.43243243243244\n",
      "\n",
      "Test accuracy for k= 41  is  92.16216216216216\n",
      "\n",
      "Test accuracy for k= 43  is  92.16216216216216\n",
      "\n",
      "Test accuracy for k= 45  is  92.16216216216216\n",
      "\n",
      "Test accuracy for k= 47  is  91.98198198198199\n",
      "\n",
      "Test accuracy for k= 49  is  91.98198198198199\n",
      "\n",
      "Test accuracy for k= 51  is  91.98198198198199\n"
     ]
    }
   ],
   "source": [
    "\n",
    "K_range = range(1, 52, 2)\n",
    "test_accuracy = []\n",
    "for n in K_range:\n",
    "    neigh = NearestNeighbors(n_neighbors=n)\n",
    "    neigh.fit(X_train)\n",
    "    _, indices = neigh.kneighbors(X_test)\n",
    "    predicted = MajorityVote(indices, y_train)\n",
    "    accuracy = accuracy_score(y_test, predicted, normalize=True)\n",
    "    accuracy = accuracy * float(100)\n",
    "    test_accuracy.append(accuracy)\n",
    "  \n",
    "    print(\"\\nTest accuracy for k=\",n,\" is \",accuracy)"
   ]
  },
  {
   "cell_type": "code",
   "execution_count": 19,
   "metadata": {},
   "outputs": [
    {
     "data": {
      "image/png": "[encoded data removed]",
      "text/plain": [
       "<Figure size 640x480 with 1 Axes>"
      ]
     },
     "metadata": {},
     "output_type": "display_data"
    }
   ],
   "source": [
    "plt.plot(K_range, test_accuracy)\n",
    "plt.ylabel(\"Accuracy\")\n",
    "plt.xlabel(\"Value of k\")\n",
    "plt.show()"
   ]
  },
  {
   "cell_type": "code",
   "execution_count": 20,
   "metadata": {},
   "outputs": [
    {
     "name": "stdout",
     "output_type": "stream",
     "text": [
      "minimum accuracy is  91.30630630630631\n",
      "minimum accuracy K value is  1\n",
      "maximum accuracy is  93.46846846846847\n",
      "maximum accuracy K value is  5\n"
     ]
    }
   ],
   "source": [
    "print(\"minimum accuracy is \",min(test_accuracy))\n",
    "print(\"minimum accuracy K value is \",K_range[np.argmin(test_accuracy)])\n",
    "\n",
    "print(\"maximum accuracy is \",max(test_accuracy))\n",
    "print(\"maximum accuracy K value is \",K_range[np.argmax(test_accuracy)])\n",
    "\n",
    "part2k=K_range[np.argmax(test_accuracy)]\n",
    "part2acc=max(test_accuracy)"
   ]
  },
  {
   "cell_type": "markdown",
   "metadata": {
    "id": "Rg7hD8-O3PbO"
   },
   "source": [
    "## Part-3\n",
    "### Subpart-1"
   ]
  },
  {
   "cell_type": "markdown",
   "metadata": {
    "id": "Bp9TVeVD9lKe"
   },
   "source": [
    "Combine both the vectors obtained from the tweet_vectoriser() and get_features()"
   ]
  },
  {
   "cell_type": "code",
   "execution_count": 21,
   "metadata": {
    "id": "r5ksyj7_3_xl"
   },
   "outputs": [
    {
     "name": "stdout",
     "output_type": "stream",
     "text": [
      "(8879, 28)\n",
      "(2220, 28)\n",
      "(8879,)\n",
      "(2220,)\n"
     ]
    }
   ],
   "source": [
    "\n",
    "metaX_train=pd.DataFrame(metaX_train)\n",
    "metaX_test=pd.DataFrame(metaX_test)\n",
    "tfidfX_train=pd.DataFrame(tfidfX_train)\n",
    "tfidfX_test=pd.DataFrame(tfidfX_test)\n",
    "\n",
    "X_train=pd.concat([metaX_train,tfidfX_train],axis=1)\n",
    "X_test=pd.concat([metaX_test,tfidfX_test],axis=1)\n",
    "\n",
    "\n",
    "print(X_train.shape)\n",
    "print(X_test.shape)\n",
    "print(y_train.shape)\n",
    "print(y_test.shape)"
   ]
  },
  {
   "cell_type": "code",
   "execution_count": 22,
   "metadata": {},
   "outputs": [
    {
     "name": "stdout",
     "output_type": "stream",
     "text": [
      "\n",
      "Test accuracy for k= 1  is  94.36936936936937\n",
      "\n",
      "Test accuracy for k= 3  is  94.95495495495496\n",
      "\n",
      "Test accuracy for k= 5  is  95.09009009009009\n",
      "\n",
      "Test accuracy for k= 7  is  95.13513513513514\n",
      "\n",
      "Test accuracy for k= 9  is  94.86486486486486\n",
      "\n",
      "Test accuracy for k= 11  is  94.81981981981981\n",
      "\n",
      "Test accuracy for k= 13  is  94.90990990990991\n",
      "\n",
      "Test accuracy for k= 15  is  94.86486486486486\n",
      "\n",
      "Test accuracy for k= 17  is  94.86486486486486\n",
      "\n",
      "Test accuracy for k= 19  is  94.77477477477477\n",
      "\n",
      "Test accuracy for k= 21  is  94.81981981981981\n",
      "\n",
      "Test accuracy for k= 23  is  94.95495495495496\n",
      "\n",
      "Test accuracy for k= 25  is  94.86486486486486\n",
      "\n",
      "Test accuracy for k= 27  is  94.95495495495496\n",
      "\n",
      "Test accuracy for k= 29  is  94.95495495495496\n",
      "\n",
      "Test accuracy for k= 31  is  94.95495495495496\n",
      "\n",
      "Test accuracy for k= 33  is  94.90990990990991\n",
      "\n",
      "Test accuracy for k= 35  is  95.0\n",
      "\n",
      "Test accuracy for k= 37  is  94.95495495495496\n",
      "\n",
      "Test accuracy for k= 39  is  95.09009009009009\n",
      "\n",
      "Test accuracy for k= 41  is  95.13513513513514\n",
      "\n",
      "Test accuracy for k= 43  is  95.13513513513514\n",
      "\n",
      "Test accuracy for k= 45  is  95.09009009009009\n",
      "\n",
      "Test accuracy for k= 47  is  95.09009009009009\n",
      "\n",
      "Test accuracy for k= 49  is  95.0\n",
      "\n",
      "Test accuracy for k= 51  is  94.95495495495496\n"
     ]
    }
   ],
   "source": [
    "K_range = range(1, 52, 2)\n",
    "test_accuracy = []\n",
    "for n in K_range:\n",
    "    neigh = NearestNeighbors(n_neighbors=n)\n",
    "    neigh.fit(X_train)\n",
    "    _, indices = neigh.kneighbors(X_test)\n",
    "    predicted = MajorityVote(indices, y_train)\n",
    "    accuracy = accuracy_score(y_test, predicted, normalize=True)\n",
    "    accuracy = accuracy * float(100)\n",
    "    test_accuracy.append(accuracy)\n",
    "  \n",
    "    print(\"\\nTest accuracy for k=\",n,\" is \",accuracy)"
   ]
  },
  {
   "cell_type": "code",
   "execution_count": 23,
   "metadata": {},
   "outputs": [
    {
     "data": {
      "image/png": "[encoded data removed]",
      "text/plain": [
       "<Figure size 640x480 with 1 Axes>"
      ]
     },
     "metadata": {},
     "output_type": "display_data"
    }
   ],
   "source": [
    "plt.plot(K_range, test_accuracy)\n",
    "plt.ylabel(\"Accuracy\")\n",
    "plt.xlabel(\"Value of k\")\n",
    "plt.show()"
   ]
  },
  {
   "cell_type": "code",
   "execution_count": 24,
   "metadata": {},
   "outputs": [
    {
     "name": "stdout",
     "output_type": "stream",
     "text": [
      "minimum accuracy is  94.36936936936937\n",
      "minimum accuracy K value is  1\n",
      "maximum accuracy is  95.13513513513514\n",
      "maximum accuracy K value is  7\n"
     ]
    }
   ],
   "source": [
    "print(\"minimum accuracy is \",min(test_accuracy))\n",
    "print(\"minimum accuracy K value is \",K_range[np.argmin(test_accuracy)])\n",
    "\n",
    "print(\"maximum accuracy is \",max(test_accuracy))\n",
    "print(\"maximum accuracy K value is \",K_range[np.argmax(test_accuracy)])\n",
    "\n",
    "part3k=K_range[np.argmax(test_accuracy)]\n",
    "part3acc=max(test_accuracy)\n"
   ]
  },
  {
   "cell_type": "markdown",
   "metadata": {
    "id": "swCD5Jp69xo5"
   },
   "source": [
    "Perform KNN using the vector obtained in the previous step. Following are the steps to be followed:\n",
    "\n",
    "1. Normalise the vectors\n",
    "2. Split the data into training and test to estimate the performance.\n",
    "3. Fit the Nearest Neughbiurs module to the training data and obtain the predicted class by getting the nearest neighbours on the test data.\n",
    "4. Report the accuracy, chosen k-value and method used to obtain the predicted class. Hint: Plot accuracies for a range of k-values."
   ]
  },
  {
   "cell_type": "code",
   "execution_count": 25,
   "metadata": {
    "id": "rufknWgo4AvY"
   },
   "outputs": [
    {
     "name": "stdout",
     "output_type": "stream",
     "text": [
      "maximum accuracy for part-1 is  95.31531531531532\n",
      "maximum accuracy K value for part-1 is  15\n",
      "maximum accuracy for part-2 is  93.46846846846847\n",
      "maximum accuracy K value for part-2 is  5\n",
      "maximum accuracy for part-3 is  95.13513513513514\n",
      "maximum accuracy K value for part-3 is  7\n"
     ]
    }
   ],
   "source": [
    "\n",
    "\n",
    "print(\"maximum accuracy for part-1 is \",part1acc)\n",
    "print(\"maximum accuracy K value for part-1 is \",part1k)\n",
    "\n",
    "\n",
    "\n",
    "print(\"maximum accuracy for part-2 is \",part2acc)\n",
    "print(\"maximum accuracy K value for part-2 is \",part2k)\n",
    "\n",
    "\n",
    "\n",
    "print(\"maximum accuracy for part-3 is \",part3acc)\n",
    "print(\"maximum accuracy K value for part-3 is \",part3k)"
   ]
  },
  {
   "cell_type": "markdown",
   "metadata": {
    "id": "1NVQLLhE3c79"
   },
   "source": [
    "### Subpart-2\n",
    "\n",
    "Explain the differences between the accuracies obtained in each part above based on the features used."
   ]
  },
  {
   "cell_type": "markdown",
   "metadata": {
    "id": "VkiTeqaE_4ic"
   },
   "source": []
  }
 ],
 "metadata": {
  "colab": {
   "provenance": []
  },
  "kernelspec": {
   "display_name": "Python 3 (ipykernel)",
   "language": "python",
   "name": "python3"
  },
  "language_info": {
   "codemirror_mode": {
    "name": "ipython",
    "version": 3
   },
   "file_extension": ".py",
   "mimetype": "text/x-python",
   "name": "python",
   "nbconvert_exporter": "python",
   "pygments_lexer": "ipython3",
   "version": "3.10.6"
  }
 },
 "nbformat": 4,
 "nbformat_minor": 4
}
